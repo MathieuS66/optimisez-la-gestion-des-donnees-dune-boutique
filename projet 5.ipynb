{
 "cells": [
  {
   "cell_type": "code",
   "execution_count": 1,
   "id": "84664eb3",
   "metadata": {},
   "outputs": [],
   "source": [
    "# Importation librairies\n",
    "import numpy as np\n",
    "import pandas as pd\n",
    "import matplotlib.pyplot as plt\n",
    "from matplotlib import ticker\n",
    "import warnings\n",
    "\n",
    "# Masque avertissement quand importation fichiers \"xlsx\"\n",
    "warnings.filterwarnings('ignore', category = UserWarning, module = 'openpyxl')\n",
    "\n",
    "# Augmentation du nombre de colonnes affichées dans les DataFrame\n",
    "pd.set_option('display.max_columns', 50)\n"
   ]
  },
  {
   "cell_type": "markdown",
   "id": "4830de05",
   "metadata": {},
   "source": [
    "Export des données\n"
   ]
  },
  {
   "cell_type": "code",
   "execution_count": 2,
   "id": "fdb16681",
   "metadata": {},
   "outputs": [],
   "source": [
    "erp = pd.read_excel('erp.xlsx')\n",
    "erp.sort_values(by=\"product_id\", inplace = True)\n",
    "liaison = pd.read_excel('liaison.xlsx')\n",
    "liaison.sort_values(by=\"product_id\", inplace = True)\n",
    "liaison.rename(columns={\"id_web\": \"sku\"},inplace=True)\n",
    "web = pd.read_excel('web.xlsx')\n"
   ]
  },
  {
   "cell_type": "markdown",
   "id": "0bf71c76",
   "metadata": {},
   "source": [
    "# fichier de l'ERP"
   ]
  },
  {
   "cell_type": "code",
   "execution_count": 3,
   "id": "664fc01c",
   "metadata": {},
   "outputs": [
    {
     "data": {
      "text/html": [
       "<div>\n",
       "<style scoped>\n",
       "    .dataframe tbody tr th:only-of-type {\n",
       "        vertical-align: middle;\n",
       "    }\n",
       "\n",
       "    .dataframe tbody tr th {\n",
       "        vertical-align: top;\n",
       "    }\n",
       "\n",
       "    .dataframe thead th {\n",
       "        text-align: right;\n",
       "    }\n",
       "</style>\n",
       "<table border=\"1\" class=\"dataframe\">\n",
       "  <thead>\n",
       "    <tr style=\"text-align: right;\">\n",
       "      <th></th>\n",
       "      <th>product_id</th>\n",
       "      <th>onsale_web</th>\n",
       "      <th>price</th>\n",
       "      <th>stock_quantity</th>\n",
       "      <th>stock_status</th>\n",
       "    </tr>\n",
       "  </thead>\n",
       "  <tbody>\n",
       "    <tr>\n",
       "      <th>0</th>\n",
       "      <td>3847</td>\n",
       "      <td>1</td>\n",
       "      <td>24.2</td>\n",
       "      <td>0</td>\n",
       "      <td>outofstock</td>\n",
       "    </tr>\n",
       "    <tr>\n",
       "      <th>1</th>\n",
       "      <td>3849</td>\n",
       "      <td>1</td>\n",
       "      <td>34.3</td>\n",
       "      <td>0</td>\n",
       "      <td>outofstock</td>\n",
       "    </tr>\n",
       "    <tr>\n",
       "      <th>2</th>\n",
       "      <td>3850</td>\n",
       "      <td>1</td>\n",
       "      <td>20.8</td>\n",
       "      <td>0</td>\n",
       "      <td>outofstock</td>\n",
       "    </tr>\n",
       "    <tr>\n",
       "      <th>3</th>\n",
       "      <td>4032</td>\n",
       "      <td>1</td>\n",
       "      <td>14.1</td>\n",
       "      <td>0</td>\n",
       "      <td>outofstock</td>\n",
       "    </tr>\n",
       "    <tr>\n",
       "      <th>4</th>\n",
       "      <td>4039</td>\n",
       "      <td>1</td>\n",
       "      <td>46.0</td>\n",
       "      <td>0</td>\n",
       "      <td>outofstock</td>\n",
       "    </tr>\n",
       "  </tbody>\n",
       "</table>\n",
       "</div>"
      ],
      "text/plain": [
       "   product_id  onsale_web  price  stock_quantity stock_status\n",
       "0        3847           1   24.2               0   outofstock\n",
       "1        3849           1   34.3               0   outofstock\n",
       "2        3850           1   20.8               0   outofstock\n",
       "3        4032           1   14.1               0   outofstock\n",
       "4        4039           1   46.0               0   outofstock"
      ]
     },
     "execution_count": 3,
     "metadata": {},
     "output_type": "execute_result"
    }
   ],
   "source": [
    "erp.head()\n"
   ]
  },
  {
   "cell_type": "code",
   "execution_count": 4,
   "id": "e543cf4b",
   "metadata": {},
   "outputs": [
    {
     "data": {
      "text/plain": [
       "(825, 5)"
      ]
     },
     "execution_count": 4,
     "metadata": {},
     "output_type": "execute_result"
    }
   ],
   "source": [
    "erp.shape"
   ]
  },
  {
   "cell_type": "markdown",
   "id": "55078b63",
   "metadata": {},
   "source": [
    "Les données de l'ERP contiennent 825 produits renseignés sur 5 variables nous donnant des informations sur leur code, leur disponibilité à la vente en ligne, leur prix et l'état de leur stock."
   ]
  },
  {
   "cell_type": "code",
   "execution_count": 5,
   "id": "76d759e7",
   "metadata": {},
   "outputs": [
    {
     "data": {
      "text/plain": [
       "product_id          int64\n",
       "onsale_web          int64\n",
       "price             float64\n",
       "stock_quantity      int64\n",
       "stock_status       object\n",
       "dtype: object"
      ]
     },
     "execution_count": 5,
     "metadata": {},
     "output_type": "execute_result"
    }
   ],
   "source": [
    "erp.dtypes"
   ]
  },
  {
   "cell_type": "markdown",
   "id": "91f9f224",
   "metadata": {},
   "source": [
    "La variable \"product_id\" est qualitative, nous allons la convertir en objet.\n",
    "La variable \"onsale_web\" est booléenne. Nous allons la convertir en vérifiant avant qu'elle ne comprenne bien que les valeurs 0 ou 1."
   ]
  },
  {
   "cell_type": "code",
   "execution_count": 6,
   "id": "ed56bedd",
   "metadata": {},
   "outputs": [
    {
     "name": "stdout",
     "output_type": "stream",
     "text": [
      "La variable \"onsale_web\" ne contient bien que les valeurs 0 ou 1 : True.\n"
     ]
    }
   ],
   "source": [
    "# Vérification valeurs présentes dans \"onsale_web\"\n",
    "verification_valeurs = erp['onsale_web'].isin([0, 1]).all()\n",
    "\n",
    "print(\n",
    "    f'La variable \\\"onsale_web\\\" ne contient bien que les valeurs 0 ou 1 : {verification_valeurs}.')\n",
    "\n",
    "del verification_valeurs"
   ]
  },
  {
   "cell_type": "code",
   "execution_count": 7,
   "id": "95ae8985",
   "metadata": {},
   "outputs": [],
   "source": [
    "erp['product_id'] = erp['product_id'].astype(object)\n",
    "erp['onsale_web'] = erp['onsale_web'].astype(bool)"
   ]
  },
  {
   "cell_type": "code",
   "execution_count": 8,
   "id": "61c724a7",
   "metadata": {},
   "outputs": [
    {
     "data": {
      "text/plain": [
       "product_id        0\n",
       "onsale_web        0\n",
       "price             0\n",
       "stock_quantity    0\n",
       "stock_status      0\n",
       "dtype: int64"
      ]
     },
     "execution_count": 8,
     "metadata": {},
     "output_type": "execute_result"
    }
   ],
   "source": [
    "erp.isna().sum()"
   ]
  },
  {
   "cell_type": "markdown",
   "id": "2388138c",
   "metadata": {},
   "source": [
    "Il n'y a pas de valeurs manquantes, on passe aux doublons.\n",
    "\n"
   ]
  },
  {
   "cell_type": "code",
   "execution_count": 9,
   "id": "5bbb2cd9",
   "metadata": {},
   "outputs": [
    {
     "name": "stdout",
     "output_type": "stream",
     "text": [
      "Il y a 0 doublons dans les codes produits.\n"
     ]
    }
   ],
   "source": [
    "# Test des doublons sur le code produit\n",
    "test_doublons = erp.duplicated(subset=['product_id']).sum()\n",
    "\n",
    "print(f'Il y a {test_doublons} doublons dans les codes produits.')\n",
    "\n",
    "del test_doublons"
   ]
  },
  {
   "cell_type": "markdown",
   "id": "4543c676",
   "metadata": {},
   "source": [
    "# Fichier de liaison\n",
    "\n"
   ]
  },
  {
   "cell_type": "code",
   "execution_count": 10,
   "id": "0769f988",
   "metadata": {},
   "outputs": [
    {
     "data": {
      "text/html": [
       "<div>\n",
       "<style scoped>\n",
       "    .dataframe tbody tr th:only-of-type {\n",
       "        vertical-align: middle;\n",
       "    }\n",
       "\n",
       "    .dataframe tbody tr th {\n",
       "        vertical-align: top;\n",
       "    }\n",
       "\n",
       "    .dataframe thead th {\n",
       "        text-align: right;\n",
       "    }\n",
       "</style>\n",
       "<table border=\"1\" class=\"dataframe\">\n",
       "  <thead>\n",
       "    <tr style=\"text-align: right;\">\n",
       "      <th></th>\n",
       "      <th>product_id</th>\n",
       "      <th>sku</th>\n",
       "    </tr>\n",
       "  </thead>\n",
       "  <tbody>\n",
       "    <tr>\n",
       "      <th>0</th>\n",
       "      <td>3847</td>\n",
       "      <td>15298</td>\n",
       "    </tr>\n",
       "    <tr>\n",
       "      <th>1</th>\n",
       "      <td>3849</td>\n",
       "      <td>15296</td>\n",
       "    </tr>\n",
       "    <tr>\n",
       "      <th>2</th>\n",
       "      <td>3850</td>\n",
       "      <td>15300</td>\n",
       "    </tr>\n",
       "    <tr>\n",
       "      <th>3</th>\n",
       "      <td>4032</td>\n",
       "      <td>19814</td>\n",
       "    </tr>\n",
       "    <tr>\n",
       "      <th>4</th>\n",
       "      <td>4039</td>\n",
       "      <td>19815</td>\n",
       "    </tr>\n",
       "  </tbody>\n",
       "</table>\n",
       "</div>"
      ],
      "text/plain": [
       "   product_id    sku\n",
       "0        3847  15298\n",
       "1        3849  15296\n",
       "2        3850  15300\n",
       "3        4032  19814\n",
       "4        4039  19815"
      ]
     },
     "execution_count": 10,
     "metadata": {},
     "output_type": "execute_result"
    }
   ],
   "source": [
    "liaison.head()"
   ]
  },
  {
   "cell_type": "code",
   "execution_count": 11,
   "id": "81562867",
   "metadata": {},
   "outputs": [
    {
     "data": {
      "text/plain": [
       "(825, 2)"
      ]
     },
     "execution_count": 11,
     "metadata": {},
     "output_type": "execute_result"
    }
   ],
   "source": [
    "liaison.shape"
   ]
  },
  {
   "cell_type": "markdown",
   "id": "a90b91a7",
   "metadata": {},
   "source": [
    "Les données du fichier de liaison contiennent également 825 produits et 2 variables:\n",
    "\n",
    "\"product_id\": le code du produit issu de l'ERP;\n",
    "\"id_web\": le code du produit issu du CMS.\n",
    "Nous savons que \"id_web\" correspond en fait au SKU du CMS donc nous allons tout de suite renommer la colonne."
   ]
  },
  {
   "cell_type": "code",
   "execution_count": 12,
   "id": "1ea9eae0",
   "metadata": {},
   "outputs": [],
   "source": [
    "liaison = liaison.rename(columns = {'id_web':'sku'})"
   ]
  },
  {
   "cell_type": "code",
   "execution_count": 13,
   "id": "c0ceca1b",
   "metadata": {},
   "outputs": [
    {
     "data": {
      "text/plain": [
       "product_id     int64\n",
       "sku           object\n",
       "dtype: object"
      ]
     },
     "execution_count": 13,
     "metadata": {},
     "output_type": "execute_result"
    }
   ],
   "source": [
    "liaison.dtypes"
   ]
  },
  {
   "cell_type": "markdown",
   "id": "e5f67fe4",
   "metadata": {},
   "source": [
    "La variable \"product_id\" est qualitative, nous la convertissons en objet.\n",
    "\n"
   ]
  },
  {
   "cell_type": "code",
   "execution_count": 14,
   "id": "94ba4ad7",
   "metadata": {},
   "outputs": [],
   "source": [
    "liaison['product_id'] = liaison['product_id'].astype(object)"
   ]
  },
  {
   "cell_type": "code",
   "execution_count": 15,
   "id": "791abcce",
   "metadata": {},
   "outputs": [
    {
     "data": {
      "text/plain": [
       "product_id     0\n",
       "sku           91\n",
       "dtype: int64"
      ]
     },
     "execution_count": 15,
     "metadata": {},
     "output_type": "execute_result"
    }
   ],
   "source": [
    "liaison.isna().sum()"
   ]
  },
  {
   "cell_type": "markdown",
   "id": "1c67e709",
   "metadata": {},
   "source": [
    "Il manque 91 valeurs pour \"sku\". Les produits concernés ne pourront pas être rapprochés de leur(s) vente(s), il est donc inutile de les conserver.\n",
    "\n"
   ]
  },
  {
   "cell_type": "code",
   "execution_count": 16,
   "id": "14ae9be5",
   "metadata": {},
   "outputs": [],
   "source": [
    "liaison = liaison.dropna().reset_index(drop=True)"
   ]
  },
  {
   "cell_type": "markdown",
   "id": "df8c8244",
   "metadata": {},
   "source": [
    "Pour finir, nous nous assurons que les codes \"product_id\" et \"sku\" ne contiennent pas de doublons.\n",
    "\n"
   ]
  },
  {
   "cell_type": "code",
   "execution_count": 17,
   "id": "bfde7b11",
   "metadata": {},
   "outputs": [
    {
     "name": "stdout",
     "output_type": "stream",
     "text": [
      "Il y a 0 doublons dans les codes produits et les SKU.\n"
     ]
    }
   ],
   "source": [
    "# Test des doublons sur le code produit et le SKU\n",
    "test_doublons = liaison.duplicated(subset=['product_id', 'sku']).sum()\n",
    "\n",
    "print(f'Il y a {test_doublons} doublons dans les codes produits et les SKU.')\n",
    "\n",
    "del test_doublons"
   ]
  },
  {
   "cell_type": "markdown",
   "id": "7a3e9d22",
   "metadata": {},
   "source": [
    "# CMS\n"
   ]
  },
  {
   "cell_type": "code",
   "execution_count": 18,
   "id": "cb5a1066",
   "metadata": {},
   "outputs": [
    {
     "data": {
      "text/html": [
       "<div>\n",
       "<style scoped>\n",
       "    .dataframe tbody tr th:only-of-type {\n",
       "        vertical-align: middle;\n",
       "    }\n",
       "\n",
       "    .dataframe tbody tr th {\n",
       "        vertical-align: top;\n",
       "    }\n",
       "\n",
       "    .dataframe thead th {\n",
       "        text-align: right;\n",
       "    }\n",
       "</style>\n",
       "<table border=\"1\" class=\"dataframe\">\n",
       "  <thead>\n",
       "    <tr style=\"text-align: right;\">\n",
       "      <th></th>\n",
       "      <th>sku</th>\n",
       "      <th>virtual</th>\n",
       "      <th>downloadable</th>\n",
       "      <th>rating_count</th>\n",
       "      <th>average_rating</th>\n",
       "      <th>total_sales</th>\n",
       "      <th>tax_status</th>\n",
       "      <th>tax_class</th>\n",
       "      <th>post_author</th>\n",
       "      <th>post_date</th>\n",
       "      <th>post_date_gmt</th>\n",
       "      <th>post_content</th>\n",
       "      <th>post_title</th>\n",
       "      <th>post_excerpt</th>\n",
       "      <th>post_status</th>\n",
       "      <th>comment_status</th>\n",
       "      <th>ping_status</th>\n",
       "      <th>post_password</th>\n",
       "      <th>post_name</th>\n",
       "      <th>post_modified</th>\n",
       "      <th>post_modified_gmt</th>\n",
       "      <th>post_content_filtered</th>\n",
       "      <th>post_parent</th>\n",
       "      <th>guid</th>\n",
       "      <th>menu_order</th>\n",
       "      <th>post_type</th>\n",
       "      <th>post_mime_type</th>\n",
       "      <th>comment_count</th>\n",
       "    </tr>\n",
       "  </thead>\n",
       "  <tbody>\n",
       "    <tr>\n",
       "      <th>0</th>\n",
       "      <td>bon-cadeau-25-euros</td>\n",
       "      <td>0</td>\n",
       "      <td>0</td>\n",
       "      <td>0</td>\n",
       "      <td>0.0</td>\n",
       "      <td>10.0</td>\n",
       "      <td>taxable</td>\n",
       "      <td>NaN</td>\n",
       "      <td>1.0</td>\n",
       "      <td>2018-06-01 13:53:46</td>\n",
       "      <td>2018-06-01 11:53:46</td>\n",
       "      <td>NaN</td>\n",
       "      <td>Bon cadeau de 25€</td>\n",
       "      <td>&lt;span style=\"color: #a85253;\"&gt;&lt;strong&gt;Parlons ...</td>\n",
       "      <td>publish</td>\n",
       "      <td>closed</td>\n",
       "      <td>closed</td>\n",
       "      <td>NaN</td>\n",
       "      <td>bon-cadeau-de-25-euros</td>\n",
       "      <td>2018-06-01 14:13:57</td>\n",
       "      <td>2018-06-01 12:13:57</td>\n",
       "      <td>NaN</td>\n",
       "      <td>0.0</td>\n",
       "      <td>https://www.bottle-neck.fr/?post_type=product&amp;...</td>\n",
       "      <td>0.0</td>\n",
       "      <td>product</td>\n",
       "      <td>NaN</td>\n",
       "      <td>0.0</td>\n",
       "    </tr>\n",
       "    <tr>\n",
       "      <th>1</th>\n",
       "      <td>15298</td>\n",
       "      <td>0</td>\n",
       "      <td>0</td>\n",
       "      <td>0</td>\n",
       "      <td>0.0</td>\n",
       "      <td>6.0</td>\n",
       "      <td>taxable</td>\n",
       "      <td>NaN</td>\n",
       "      <td>2.0</td>\n",
       "      <td>2018-02-08 12:58:52</td>\n",
       "      <td>2018-02-08 11:58:52</td>\n",
       "      <td>NaN</td>\n",
       "      <td>Pierre Jean Villa Saint-Joseph Préface 2018</td>\n",
       "      <td>Il exhale un nez subtil, racé avec du poivre f...</td>\n",
       "      <td>publish</td>\n",
       "      <td>closed</td>\n",
       "      <td>closed</td>\n",
       "      <td>NaN</td>\n",
       "      <td>pierre-jean-villa-saint-joseph-preface-2018</td>\n",
       "      <td>2019-12-30 09:30:29</td>\n",
       "      <td>2019-12-30 08:30:29</td>\n",
       "      <td>NaN</td>\n",
       "      <td>0.0</td>\n",
       "      <td>https://www.bottle-neck.fr/?post_type=product&amp;...</td>\n",
       "      <td>0.0</td>\n",
       "      <td>product</td>\n",
       "      <td>NaN</td>\n",
       "      <td>0.0</td>\n",
       "    </tr>\n",
       "    <tr>\n",
       "      <th>2</th>\n",
       "      <td>15296</td>\n",
       "      <td>0</td>\n",
       "      <td>0</td>\n",
       "      <td>0</td>\n",
       "      <td>0.0</td>\n",
       "      <td>0.0</td>\n",
       "      <td>taxable</td>\n",
       "      <td>NaN</td>\n",
       "      <td>2.0</td>\n",
       "      <td>2018-02-08 13:49:41</td>\n",
       "      <td>2018-02-08 12:49:41</td>\n",
       "      <td>NaN</td>\n",
       "      <td>Pierre Jean Villa Saint-Joseph Rouge Tildé 2017</td>\n",
       "      <td>Les vieilles vignes lui apportent une rare pro...</td>\n",
       "      <td>publish</td>\n",
       "      <td>closed</td>\n",
       "      <td>closed</td>\n",
       "      <td>NaN</td>\n",
       "      <td>pierre-jean-villa-saint-joseph-tilde-2017</td>\n",
       "      <td>2019-12-21 09:00:17</td>\n",
       "      <td>2019-12-21 08:00:17</td>\n",
       "      <td>NaN</td>\n",
       "      <td>0.0</td>\n",
       "      <td>https://www.bottle-neck.fr/?post_type=product&amp;...</td>\n",
       "      <td>0.0</td>\n",
       "      <td>product</td>\n",
       "      <td>NaN</td>\n",
       "      <td>0.0</td>\n",
       "    </tr>\n",
       "    <tr>\n",
       "      <th>3</th>\n",
       "      <td>15300</td>\n",
       "      <td>0</td>\n",
       "      <td>0</td>\n",
       "      <td>0</td>\n",
       "      <td>0.0</td>\n",
       "      <td>0.0</td>\n",
       "      <td>taxable</td>\n",
       "      <td>NaN</td>\n",
       "      <td>2.0</td>\n",
       "      <td>2018-02-08 14:08:36</td>\n",
       "      <td>2018-02-08 13:08:36</td>\n",
       "      <td>NaN</td>\n",
       "      <td>Pierre Jean Villa Crozes-Hermitage Accroche Co...</td>\n",
       "      <td>Dentelle de fruit de jeunes syrah, aux tanins ...</td>\n",
       "      <td>publish</td>\n",
       "      <td>closed</td>\n",
       "      <td>closed</td>\n",
       "      <td>NaN</td>\n",
       "      <td>pierre-jean-villa-croze-hermitage-accroche-coe...</td>\n",
       "      <td>2020-06-26 18:15:03</td>\n",
       "      <td>2020-06-26 16:15:03</td>\n",
       "      <td>NaN</td>\n",
       "      <td>0.0</td>\n",
       "      <td>https://www.bottle-neck.fr/?post_type=product&amp;...</td>\n",
       "      <td>0.0</td>\n",
       "      <td>product</td>\n",
       "      <td>NaN</td>\n",
       "      <td>0.0</td>\n",
       "    </tr>\n",
       "    <tr>\n",
       "      <th>4</th>\n",
       "      <td>19814</td>\n",
       "      <td>0</td>\n",
       "      <td>0</td>\n",
       "      <td>0</td>\n",
       "      <td>0.0</td>\n",
       "      <td>3.0</td>\n",
       "      <td>taxable</td>\n",
       "      <td>NaN</td>\n",
       "      <td>2.0</td>\n",
       "      <td>2018-02-09 14:01:05</td>\n",
       "      <td>2018-02-09 13:01:05</td>\n",
       "      <td>NaN</td>\n",
       "      <td>Pierre Jean Villa IGP Collines Rhodaniennes Ga...</td>\n",
       "      <td>Gamine représente tout le fruité et la gourman...</td>\n",
       "      <td>publish</td>\n",
       "      <td>closed</td>\n",
       "      <td>closed</td>\n",
       "      <td>NaN</td>\n",
       "      <td>pierre-jean-villa-igp-gamine-2018</td>\n",
       "      <td>2020-01-04 16:36:01</td>\n",
       "      <td>2020-01-04 15:36:01</td>\n",
       "      <td>NaN</td>\n",
       "      <td>0.0</td>\n",
       "      <td>https://www.bottle-neck.fr/?post_type=product&amp;...</td>\n",
       "      <td>0.0</td>\n",
       "      <td>product</td>\n",
       "      <td>NaN</td>\n",
       "      <td>0.0</td>\n",
       "    </tr>\n",
       "  </tbody>\n",
       "</table>\n",
       "</div>"
      ],
      "text/plain": [
       "                   sku  virtual  downloadable  rating_count  average_rating  \\\n",
       "0  bon-cadeau-25-euros        0             0             0             0.0   \n",
       "1                15298        0             0             0             0.0   \n",
       "2                15296        0             0             0             0.0   \n",
       "3                15300        0             0             0             0.0   \n",
       "4                19814        0             0             0             0.0   \n",
       "\n",
       "   total_sales tax_status  tax_class  post_author           post_date  \\\n",
       "0         10.0    taxable        NaN          1.0 2018-06-01 13:53:46   \n",
       "1          6.0    taxable        NaN          2.0 2018-02-08 12:58:52   \n",
       "2          0.0    taxable        NaN          2.0 2018-02-08 13:49:41   \n",
       "3          0.0    taxable        NaN          2.0 2018-02-08 14:08:36   \n",
       "4          3.0    taxable        NaN          2.0 2018-02-09 14:01:05   \n",
       "\n",
       "        post_date_gmt  post_content  \\\n",
       "0 2018-06-01 11:53:46           NaN   \n",
       "1 2018-02-08 11:58:52           NaN   \n",
       "2 2018-02-08 12:49:41           NaN   \n",
       "3 2018-02-08 13:08:36           NaN   \n",
       "4 2018-02-09 13:01:05           NaN   \n",
       "\n",
       "                                          post_title  \\\n",
       "0                                  Bon cadeau de 25€   \n",
       "1        Pierre Jean Villa Saint-Joseph Préface 2018   \n",
       "2    Pierre Jean Villa Saint-Joseph Rouge Tildé 2017   \n",
       "3  Pierre Jean Villa Crozes-Hermitage Accroche Co...   \n",
       "4  Pierre Jean Villa IGP Collines Rhodaniennes Ga...   \n",
       "\n",
       "                                        post_excerpt post_status  \\\n",
       "0  <span style=\"color: #a85253;\"><strong>Parlons ...     publish   \n",
       "1  Il exhale un nez subtil, racé avec du poivre f...     publish   \n",
       "2  Les vieilles vignes lui apportent une rare pro...     publish   \n",
       "3  Dentelle de fruit de jeunes syrah, aux tanins ...     publish   \n",
       "4  Gamine représente tout le fruité et la gourman...     publish   \n",
       "\n",
       "  comment_status ping_status  post_password  \\\n",
       "0         closed      closed            NaN   \n",
       "1         closed      closed            NaN   \n",
       "2         closed      closed            NaN   \n",
       "3         closed      closed            NaN   \n",
       "4         closed      closed            NaN   \n",
       "\n",
       "                                           post_name       post_modified  \\\n",
       "0                             bon-cadeau-de-25-euros 2018-06-01 14:13:57   \n",
       "1        pierre-jean-villa-saint-joseph-preface-2018 2019-12-30 09:30:29   \n",
       "2          pierre-jean-villa-saint-joseph-tilde-2017 2019-12-21 09:00:17   \n",
       "3  pierre-jean-villa-croze-hermitage-accroche-coe... 2020-06-26 18:15:03   \n",
       "4                  pierre-jean-villa-igp-gamine-2018 2020-01-04 16:36:01   \n",
       "\n",
       "    post_modified_gmt  post_content_filtered  post_parent  \\\n",
       "0 2018-06-01 12:13:57                    NaN          0.0   \n",
       "1 2019-12-30 08:30:29                    NaN          0.0   \n",
       "2 2019-12-21 08:00:17                    NaN          0.0   \n",
       "3 2020-06-26 16:15:03                    NaN          0.0   \n",
       "4 2020-01-04 15:36:01                    NaN          0.0   \n",
       "\n",
       "                                                guid  menu_order post_type  \\\n",
       "0  https://www.bottle-neck.fr/?post_type=product&...         0.0   product   \n",
       "1  https://www.bottle-neck.fr/?post_type=product&...         0.0   product   \n",
       "2  https://www.bottle-neck.fr/?post_type=product&...         0.0   product   \n",
       "3  https://www.bottle-neck.fr/?post_type=product&...         0.0   product   \n",
       "4  https://www.bottle-neck.fr/?post_type=product&...         0.0   product   \n",
       "\n",
       "  post_mime_type  comment_count  \n",
       "0            NaN            0.0  \n",
       "1            NaN            0.0  \n",
       "2            NaN            0.0  \n",
       "3            NaN            0.0  \n",
       "4            NaN            0.0  "
      ]
     },
     "execution_count": 18,
     "metadata": {},
     "output_type": "execute_result"
    }
   ],
   "source": [
    "web.head()"
   ]
  },
  {
   "cell_type": "code",
   "execution_count": 19,
   "id": "bc2b31ce",
   "metadata": {},
   "outputs": [
    {
     "data": {
      "text/plain": [
       "(1513, 28)"
      ]
     },
     "execution_count": 19,
     "metadata": {},
     "output_type": "execute_result"
    }
   ],
   "source": [
    "web.shape"
   ]
  },
  {
   "cell_type": "markdown",
   "id": "57372263",
   "metadata": {},
   "source": [
    "Les données du CMS contiennent 1513 produits avec 28 variables:\n",
    "\n",
    "Le nombre de produits disponibles en ligne est largement supérieur au nombre de produits dans le DataFrame df_erp.\n",
    "Les variables sont nombreuses, mais beaucoup semblent vides ou ne semblent comporter que des 0."
   ]
  },
  {
   "cell_type": "code",
   "execution_count": 20,
   "id": "b18e14f2",
   "metadata": {},
   "outputs": [
    {
     "data": {
      "text/plain": [
       "sku                              object\n",
       "virtual                           int64\n",
       "downloadable                      int64\n",
       "rating_count                      int64\n",
       "average_rating                  float64\n",
       "total_sales                     float64\n",
       "tax_status                       object\n",
       "tax_class                       float64\n",
       "post_author                     float64\n",
       "post_date                datetime64[ns]\n",
       "post_date_gmt            datetime64[ns]\n",
       "post_content                    float64\n",
       "post_title                       object\n",
       "post_excerpt                     object\n",
       "post_status                      object\n",
       "comment_status                   object\n",
       "ping_status                      object\n",
       "post_password                   float64\n",
       "post_name                        object\n",
       "post_modified            datetime64[ns]\n",
       "post_modified_gmt        datetime64[ns]\n",
       "post_content_filtered           float64\n",
       "post_parent                     float64\n",
       "guid                             object\n",
       "menu_order                      float64\n",
       "post_type                        object\n",
       "post_mime_type                   object\n",
       "comment_count                   float64\n",
       "dtype: object"
      ]
     },
     "execution_count": 20,
     "metadata": {},
     "output_type": "execute_result"
    }
   ],
   "source": [
    "web.dtypes"
   ]
  },
  {
   "cell_type": "markdown",
   "id": "d5e062a8",
   "metadata": {},
   "source": [
    "Il y a plusieurs variables dont on ne sait pas à quoi elles correspondent exactement et il est difficile de savoir de quel type elles devraient être. Nous allons donc étudier la possibilité d'en supprimer quelques-unes. Utilisons la méthode .describe() qui va nous donner des informations sur les variables définies comme quantitatives dans le DataFrame."
   ]
  },
  {
   "cell_type": "code",
   "execution_count": 21,
   "id": "50f245e5",
   "metadata": {},
   "outputs": [
    {
     "data": {
      "text/html": [
       "<div>\n",
       "<style scoped>\n",
       "    .dataframe tbody tr th:only-of-type {\n",
       "        vertical-align: middle;\n",
       "    }\n",
       "\n",
       "    .dataframe tbody tr th {\n",
       "        vertical-align: top;\n",
       "    }\n",
       "\n",
       "    .dataframe thead th {\n",
       "        text-align: right;\n",
       "    }\n",
       "</style>\n",
       "<table border=\"1\" class=\"dataframe\">\n",
       "  <thead>\n",
       "    <tr style=\"text-align: right;\">\n",
       "      <th></th>\n",
       "      <th>virtual</th>\n",
       "      <th>downloadable</th>\n",
       "      <th>rating_count</th>\n",
       "      <th>average_rating</th>\n",
       "      <th>total_sales</th>\n",
       "      <th>tax_class</th>\n",
       "      <th>post_author</th>\n",
       "      <th>post_content</th>\n",
       "      <th>post_password</th>\n",
       "      <th>post_content_filtered</th>\n",
       "      <th>post_parent</th>\n",
       "      <th>menu_order</th>\n",
       "      <th>comment_count</th>\n",
       "    </tr>\n",
       "  </thead>\n",
       "  <tbody>\n",
       "    <tr>\n",
       "      <th>count</th>\n",
       "      <td>1513.0</td>\n",
       "      <td>1513.0</td>\n",
       "      <td>1513.0</td>\n",
       "      <td>1430.0</td>\n",
       "      <td>1430.000000</td>\n",
       "      <td>0.0</td>\n",
       "      <td>1430.000000</td>\n",
       "      <td>0.0</td>\n",
       "      <td>0.0</td>\n",
       "      <td>0.0</td>\n",
       "      <td>1430.0</td>\n",
       "      <td>1430.0</td>\n",
       "      <td>1430.0</td>\n",
       "    </tr>\n",
       "    <tr>\n",
       "      <th>mean</th>\n",
       "      <td>0.0</td>\n",
       "      <td>0.0</td>\n",
       "      <td>0.0</td>\n",
       "      <td>0.0</td>\n",
       "      <td>4.006993</td>\n",
       "      <td>NaN</td>\n",
       "      <td>1.998601</td>\n",
       "      <td>NaN</td>\n",
       "      <td>NaN</td>\n",
       "      <td>NaN</td>\n",
       "      <td>0.0</td>\n",
       "      <td>0.0</td>\n",
       "      <td>0.0</td>\n",
       "    </tr>\n",
       "    <tr>\n",
       "      <th>std</th>\n",
       "      <td>0.0</td>\n",
       "      <td>0.0</td>\n",
       "      <td>0.0</td>\n",
       "      <td>0.0</td>\n",
       "      <td>8.510559</td>\n",
       "      <td>NaN</td>\n",
       "      <td>0.037385</td>\n",
       "      <td>NaN</td>\n",
       "      <td>NaN</td>\n",
       "      <td>NaN</td>\n",
       "      <td>0.0</td>\n",
       "      <td>0.0</td>\n",
       "      <td>0.0</td>\n",
       "    </tr>\n",
       "    <tr>\n",
       "      <th>min</th>\n",
       "      <td>0.0</td>\n",
       "      <td>0.0</td>\n",
       "      <td>0.0</td>\n",
       "      <td>0.0</td>\n",
       "      <td>0.000000</td>\n",
       "      <td>NaN</td>\n",
       "      <td>1.000000</td>\n",
       "      <td>NaN</td>\n",
       "      <td>NaN</td>\n",
       "      <td>NaN</td>\n",
       "      <td>0.0</td>\n",
       "      <td>0.0</td>\n",
       "      <td>0.0</td>\n",
       "    </tr>\n",
       "    <tr>\n",
       "      <th>25%</th>\n",
       "      <td>0.0</td>\n",
       "      <td>0.0</td>\n",
       "      <td>0.0</td>\n",
       "      <td>0.0</td>\n",
       "      <td>0.000000</td>\n",
       "      <td>NaN</td>\n",
       "      <td>2.000000</td>\n",
       "      <td>NaN</td>\n",
       "      <td>NaN</td>\n",
       "      <td>NaN</td>\n",
       "      <td>0.0</td>\n",
       "      <td>0.0</td>\n",
       "      <td>0.0</td>\n",
       "    </tr>\n",
       "    <tr>\n",
       "      <th>50%</th>\n",
       "      <td>0.0</td>\n",
       "      <td>0.0</td>\n",
       "      <td>0.0</td>\n",
       "      <td>0.0</td>\n",
       "      <td>1.000000</td>\n",
       "      <td>NaN</td>\n",
       "      <td>2.000000</td>\n",
       "      <td>NaN</td>\n",
       "      <td>NaN</td>\n",
       "      <td>NaN</td>\n",
       "      <td>0.0</td>\n",
       "      <td>0.0</td>\n",
       "      <td>0.0</td>\n",
       "    </tr>\n",
       "    <tr>\n",
       "      <th>75%</th>\n",
       "      <td>0.0</td>\n",
       "      <td>0.0</td>\n",
       "      <td>0.0</td>\n",
       "      <td>0.0</td>\n",
       "      <td>4.000000</td>\n",
       "      <td>NaN</td>\n",
       "      <td>2.000000</td>\n",
       "      <td>NaN</td>\n",
       "      <td>NaN</td>\n",
       "      <td>NaN</td>\n",
       "      <td>0.0</td>\n",
       "      <td>0.0</td>\n",
       "      <td>0.0</td>\n",
       "    </tr>\n",
       "    <tr>\n",
       "      <th>max</th>\n",
       "      <td>0.0</td>\n",
       "      <td>0.0</td>\n",
       "      <td>0.0</td>\n",
       "      <td>0.0</td>\n",
       "      <td>96.000000</td>\n",
       "      <td>NaN</td>\n",
       "      <td>2.000000</td>\n",
       "      <td>NaN</td>\n",
       "      <td>NaN</td>\n",
       "      <td>NaN</td>\n",
       "      <td>0.0</td>\n",
       "      <td>0.0</td>\n",
       "      <td>0.0</td>\n",
       "    </tr>\n",
       "  </tbody>\n",
       "</table>\n",
       "</div>"
      ],
      "text/plain": [
       "       virtual  downloadable  rating_count  average_rating  total_sales  \\\n",
       "count   1513.0        1513.0        1513.0          1430.0  1430.000000   \n",
       "mean       0.0           0.0           0.0             0.0     4.006993   \n",
       "std        0.0           0.0           0.0             0.0     8.510559   \n",
       "min        0.0           0.0           0.0             0.0     0.000000   \n",
       "25%        0.0           0.0           0.0             0.0     0.000000   \n",
       "50%        0.0           0.0           0.0             0.0     1.000000   \n",
       "75%        0.0           0.0           0.0             0.0     4.000000   \n",
       "max        0.0           0.0           0.0             0.0    96.000000   \n",
       "\n",
       "       tax_class  post_author  post_content  post_password  \\\n",
       "count        0.0  1430.000000           0.0            0.0   \n",
       "mean         NaN     1.998601           NaN            NaN   \n",
       "std          NaN     0.037385           NaN            NaN   \n",
       "min          NaN     1.000000           NaN            NaN   \n",
       "25%          NaN     2.000000           NaN            NaN   \n",
       "50%          NaN     2.000000           NaN            NaN   \n",
       "75%          NaN     2.000000           NaN            NaN   \n",
       "max          NaN     2.000000           NaN            NaN   \n",
       "\n",
       "       post_content_filtered  post_parent  menu_order  comment_count  \n",
       "count                    0.0       1430.0      1430.0         1430.0  \n",
       "mean                     NaN          0.0         0.0            0.0  \n",
       "std                      NaN          0.0         0.0            0.0  \n",
       "min                      NaN          0.0         0.0            0.0  \n",
       "25%                      NaN          0.0         0.0            0.0  \n",
       "50%                      NaN          0.0         0.0            0.0  \n",
       "75%                      NaN          0.0         0.0            0.0  \n",
       "max                      NaN          0.0         0.0            0.0  "
      ]
     },
     "execution_count": 21,
     "metadata": {},
     "output_type": "execute_result"
    }
   ],
   "source": [
    "web.describe()"
   ]
  },
  {
   "cell_type": "markdown",
   "id": "5e2ff00d",
   "metadata": {},
   "source": [
    "Plusieurs variables ont pour seule valeur 0 et d'autres n'ont aucune valeur. Toutes ces variables peuvent donc être supprimées sans risque.\n",
    "\n"
   ]
  },
  {
   "cell_type": "code",
   "execution_count": 22,
   "id": "c68319a5",
   "metadata": {},
   "outputs": [
    {
     "data": {
      "text/plain": [
       "(1513, 21)"
      ]
     },
     "execution_count": 22,
     "metadata": {},
     "output_type": "execute_result"
    }
   ],
   "source": [
    "# Suppression colonnes dont toutes les lignes sont égales à 0\n",
    "web = web.drop(web.loc[:, (web == 0).all(axis='rows')]\n",
    "                     , axis='columns')\n",
    "\n",
    "# Suppression colonnes dont toutes les lignes sont vides\n",
    "web = web.dropna(axis='columns', how='all')\n",
    "\n",
    "web.shape"
   ]
  },
  {
   "cell_type": "markdown",
   "id": "124fdfd2",
   "metadata": {},
   "source": [
    "Le nombre de variables est passé de 28 à 21, voyons ce que cela donne si on utilise à nouveau .describe().\n",
    "\n"
   ]
  },
  {
   "cell_type": "code",
   "execution_count": 23,
   "id": "dddd9eb0",
   "metadata": {},
   "outputs": [
    {
     "data": {
      "text/html": [
       "<div>\n",
       "<style scoped>\n",
       "    .dataframe tbody tr th:only-of-type {\n",
       "        vertical-align: middle;\n",
       "    }\n",
       "\n",
       "    .dataframe tbody tr th {\n",
       "        vertical-align: top;\n",
       "    }\n",
       "\n",
       "    .dataframe thead th {\n",
       "        text-align: right;\n",
       "    }\n",
       "</style>\n",
       "<table border=\"1\" class=\"dataframe\">\n",
       "  <thead>\n",
       "    <tr style=\"text-align: right;\">\n",
       "      <th></th>\n",
       "      <th>average_rating</th>\n",
       "      <th>total_sales</th>\n",
       "      <th>post_author</th>\n",
       "      <th>post_parent</th>\n",
       "      <th>menu_order</th>\n",
       "      <th>comment_count</th>\n",
       "    </tr>\n",
       "  </thead>\n",
       "  <tbody>\n",
       "    <tr>\n",
       "      <th>count</th>\n",
       "      <td>1430.0</td>\n",
       "      <td>1430.000000</td>\n",
       "      <td>1430.000000</td>\n",
       "      <td>1430.0</td>\n",
       "      <td>1430.0</td>\n",
       "      <td>1430.0</td>\n",
       "    </tr>\n",
       "    <tr>\n",
       "      <th>mean</th>\n",
       "      <td>0.0</td>\n",
       "      <td>4.006993</td>\n",
       "      <td>1.998601</td>\n",
       "      <td>0.0</td>\n",
       "      <td>0.0</td>\n",
       "      <td>0.0</td>\n",
       "    </tr>\n",
       "    <tr>\n",
       "      <th>std</th>\n",
       "      <td>0.0</td>\n",
       "      <td>8.510559</td>\n",
       "      <td>0.037385</td>\n",
       "      <td>0.0</td>\n",
       "      <td>0.0</td>\n",
       "      <td>0.0</td>\n",
       "    </tr>\n",
       "    <tr>\n",
       "      <th>min</th>\n",
       "      <td>0.0</td>\n",
       "      <td>0.000000</td>\n",
       "      <td>1.000000</td>\n",
       "      <td>0.0</td>\n",
       "      <td>0.0</td>\n",
       "      <td>0.0</td>\n",
       "    </tr>\n",
       "    <tr>\n",
       "      <th>25%</th>\n",
       "      <td>0.0</td>\n",
       "      <td>0.000000</td>\n",
       "      <td>2.000000</td>\n",
       "      <td>0.0</td>\n",
       "      <td>0.0</td>\n",
       "      <td>0.0</td>\n",
       "    </tr>\n",
       "    <tr>\n",
       "      <th>50%</th>\n",
       "      <td>0.0</td>\n",
       "      <td>1.000000</td>\n",
       "      <td>2.000000</td>\n",
       "      <td>0.0</td>\n",
       "      <td>0.0</td>\n",
       "      <td>0.0</td>\n",
       "    </tr>\n",
       "    <tr>\n",
       "      <th>75%</th>\n",
       "      <td>0.0</td>\n",
       "      <td>4.000000</td>\n",
       "      <td>2.000000</td>\n",
       "      <td>0.0</td>\n",
       "      <td>0.0</td>\n",
       "      <td>0.0</td>\n",
       "    </tr>\n",
       "    <tr>\n",
       "      <th>max</th>\n",
       "      <td>0.0</td>\n",
       "      <td>96.000000</td>\n",
       "      <td>2.000000</td>\n",
       "      <td>0.0</td>\n",
       "      <td>0.0</td>\n",
       "      <td>0.0</td>\n",
       "    </tr>\n",
       "  </tbody>\n",
       "</table>\n",
       "</div>"
      ],
      "text/plain": [
       "       average_rating  total_sales  post_author  post_parent  menu_order  \\\n",
       "count          1430.0  1430.000000  1430.000000       1430.0      1430.0   \n",
       "mean              0.0     4.006993     1.998601          0.0         0.0   \n",
       "std               0.0     8.510559     0.037385          0.0         0.0   \n",
       "min               0.0     0.000000     1.000000          0.0         0.0   \n",
       "25%               0.0     0.000000     2.000000          0.0         0.0   \n",
       "50%               0.0     1.000000     2.000000          0.0         0.0   \n",
       "75%               0.0     4.000000     2.000000          0.0         0.0   \n",
       "max               0.0    96.000000     2.000000          0.0         0.0   \n",
       "\n",
       "       comment_count  \n",
       "count         1430.0  \n",
       "mean             0.0  \n",
       "std              0.0  \n",
       "min              0.0  \n",
       "25%              0.0  \n",
       "50%              0.0  \n",
       "75%              0.0  \n",
       "max              0.0  "
      ]
     },
     "execution_count": 23,
     "metadata": {},
     "output_type": "execute_result"
    }
   ],
   "source": [
    "web.describe()"
   ]
  },
  {
   "cell_type": "markdown",
   "id": "016da41f",
   "metadata": {},
   "source": [
    "4 colonnes comportent 1430 fois la valeur 0. On devine que les valeurs restantes sont manquantes et que c'est pour cela qu'elles n'ont pas été supprimées. Vérifions ce raisonnement en affichant le nombre de fois où chaque valeur est présente."
   ]
  },
  {
   "cell_type": "code",
   "execution_count": 24,
   "id": "ca5d21c7",
   "metadata": {},
   "outputs": [
    {
     "data": {
      "text/plain": [
       "average_rating  post_parent  menu_order  comment_count\n",
       "0.0             0.0          0.0         0.0              1430\n",
       "NaN             NaN          NaN         NaN                83\n",
       "dtype: int64"
      ]
     },
     "execution_count": 24,
     "metadata": {},
     "output_type": "execute_result"
    }
   ],
   "source": [
    "# Décompte valeurs des 4 colonnes\n",
    "web[['average_rating', 'post_parent', 'menu_order', 'comment_count']\n",
    "       ].value_counts(dropna=False)"
   ]
  },
  {
   "cell_type": "markdown",
   "id": "28e37198",
   "metadata": {},
   "source": [
    "Notre intuition est confirmée. Nous pouvons supprimer ces colonnes puis afficher de nouveau le type des données.\n",
    "\n"
   ]
  },
  {
   "cell_type": "code",
   "execution_count": 25,
   "id": "289f721e",
   "metadata": {},
   "outputs": [
    {
     "data": {
      "text/plain": [
       "sku                          object\n",
       "total_sales                 float64\n",
       "tax_status                   object\n",
       "post_author                 float64\n",
       "post_date            datetime64[ns]\n",
       "post_date_gmt        datetime64[ns]\n",
       "post_title                   object\n",
       "post_excerpt                 object\n",
       "post_status                  object\n",
       "comment_status               object\n",
       "ping_status                  object\n",
       "post_name                    object\n",
       "post_modified        datetime64[ns]\n",
       "post_modified_gmt    datetime64[ns]\n",
       "guid                         object\n",
       "post_type                    object\n",
       "post_mime_type               object\n",
       "dtype: object"
      ]
     },
     "execution_count": 25,
     "metadata": {},
     "output_type": "execute_result"
    }
   ],
   "source": [
    "web = web.drop(['average_rating', 'post_parent',\n",
    "                     'menu_order', 'comment_count'], axis='columns')\n",
    "\n",
    "web.dtypes"
   ]
  },
  {
   "cell_type": "markdown",
   "id": "520d37b9",
   "metadata": {},
   "source": [
    "Tout semble correct à l'exception de \"post_author\" qui est une variable qualitative que nous allons convertir en objet.\n",
    "\n"
   ]
  },
  {
   "cell_type": "code",
   "execution_count": 26,
   "id": "06f71a38",
   "metadata": {},
   "outputs": [],
   "source": [
    "web['post_author'] = web['post_author'].astype(object)"
   ]
  },
  {
   "cell_type": "markdown",
   "id": "05652e6e",
   "metadata": {},
   "source": [
    "Nous avons commencé à travailler sur les colonnes, vérifions maintenant les lignes.\n",
    "\n"
   ]
  },
  {
   "cell_type": "code",
   "execution_count": 27,
   "id": "673613fb",
   "metadata": {},
   "outputs": [
    {
     "data": {
      "text/plain": [
       "sku                   85\n",
       "total_sales           83\n",
       "tax_status           797\n",
       "post_author           83\n",
       "post_date             83\n",
       "post_date_gmt         83\n",
       "post_title            83\n",
       "post_excerpt         797\n",
       "post_status           83\n",
       "comment_status        83\n",
       "ping_status           83\n",
       "post_name             83\n",
       "post_modified         83\n",
       "post_modified_gmt     83\n",
       "guid                  83\n",
       "post_type             83\n",
       "post_mime_type       799\n",
       "dtype: int64"
      ]
     },
     "execution_count": 27,
     "metadata": {},
     "output_type": "execute_result"
    }
   ],
   "source": [
    "web.isna().sum()"
   ]
  },
  {
   "cell_type": "markdown",
   "id": "ed1b283b",
   "metadata": {},
   "source": [
    "83 lignes sont entièrement vides et peuvent être supprimées. On notera qu'en plus de ces lignes, deux autres n'ont pas de \"sku\".\n",
    "\n"
   ]
  },
  {
   "cell_type": "code",
   "execution_count": 28,
   "id": "ba187ae4",
   "metadata": {},
   "outputs": [],
   "source": [
    "web = web.dropna(how='all', axis='rows').reset_index(drop=True)"
   ]
  },
  {
   "cell_type": "markdown",
   "id": "7e58fefa",
   "metadata": {},
   "source": [
    "Quelles sont les deux lignes sans \"sku\"?\n",
    "\n"
   ]
  },
  {
   "cell_type": "code",
   "execution_count": 29,
   "id": "340bd7b9",
   "metadata": {},
   "outputs": [
    {
     "data": {
      "text/html": [
       "<div>\n",
       "<style scoped>\n",
       "    .dataframe tbody tr th:only-of-type {\n",
       "        vertical-align: middle;\n",
       "    }\n",
       "\n",
       "    .dataframe tbody tr th {\n",
       "        vertical-align: top;\n",
       "    }\n",
       "\n",
       "    .dataframe thead th {\n",
       "        text-align: right;\n",
       "    }\n",
       "</style>\n",
       "<table border=\"1\" class=\"dataframe\">\n",
       "  <thead>\n",
       "    <tr style=\"text-align: right;\">\n",
       "      <th></th>\n",
       "      <th>sku</th>\n",
       "      <th>total_sales</th>\n",
       "      <th>tax_status</th>\n",
       "      <th>post_author</th>\n",
       "      <th>post_date</th>\n",
       "      <th>post_date_gmt</th>\n",
       "      <th>post_title</th>\n",
       "      <th>post_excerpt</th>\n",
       "      <th>post_status</th>\n",
       "      <th>comment_status</th>\n",
       "      <th>ping_status</th>\n",
       "      <th>post_name</th>\n",
       "      <th>post_modified</th>\n",
       "      <th>post_modified_gmt</th>\n",
       "      <th>guid</th>\n",
       "      <th>post_type</th>\n",
       "      <th>post_mime_type</th>\n",
       "    </tr>\n",
       "  </thead>\n",
       "  <tbody>\n",
       "    <tr>\n",
       "      <th>448</th>\n",
       "      <td>NaN</td>\n",
       "      <td>0.0</td>\n",
       "      <td>taxable</td>\n",
       "      <td>2.0</td>\n",
       "      <td>2018-07-31 12:07:23</td>\n",
       "      <td>2018-07-31 10:07:23</td>\n",
       "      <td>Pierre Jean Villa Côte Rôtie Fongeant 2017</td>\n",
       "      <td>Fongeant 2017 explose sur un fruit brillant, p...</td>\n",
       "      <td>publish</td>\n",
       "      <td>closed</td>\n",
       "      <td>closed</td>\n",
       "      <td>pierre-jean-villa-cote-rotie-fongeant-2017</td>\n",
       "      <td>2019-11-02 13:24:15</td>\n",
       "      <td>2019-11-02 12:24:15</td>\n",
       "      <td>https://www.bottle-neck.fr/?post_type=product&amp;...</td>\n",
       "      <td>product</td>\n",
       "      <td>NaN</td>\n",
       "    </tr>\n",
       "    <tr>\n",
       "      <th>449</th>\n",
       "      <td>NaN</td>\n",
       "      <td>0.0</td>\n",
       "      <td>taxable</td>\n",
       "      <td>2.0</td>\n",
       "      <td>2018-08-08 11:23:43</td>\n",
       "      <td>2018-08-08 09:23:43</td>\n",
       "      <td>Pierre Jean Villa Condrieu Jardin Suspendu 2018</td>\n",
       "      <td>&lt;span id=\"u1194-83\"&gt;Le nez séduit par ses parf...</td>\n",
       "      <td>publish</td>\n",
       "      <td>closed</td>\n",
       "      <td>closed</td>\n",
       "      <td>pierre-jean-villa-condrieu-suspendu-2018</td>\n",
       "      <td>2019-11-02 13:24:01</td>\n",
       "      <td>2019-11-02 12:24:01</td>\n",
       "      <td>https://www.bottle-neck.fr/?post_type=product&amp;...</td>\n",
       "      <td>product</td>\n",
       "      <td>NaN</td>\n",
       "    </tr>\n",
       "  </tbody>\n",
       "</table>\n",
       "</div>"
      ],
      "text/plain": [
       "     sku  total_sales tax_status post_author           post_date  \\\n",
       "448  NaN          0.0    taxable         2.0 2018-07-31 12:07:23   \n",
       "449  NaN          0.0    taxable         2.0 2018-08-08 11:23:43   \n",
       "\n",
       "          post_date_gmt                                       post_title  \\\n",
       "448 2018-07-31 10:07:23       Pierre Jean Villa Côte Rôtie Fongeant 2017   \n",
       "449 2018-08-08 09:23:43  Pierre Jean Villa Condrieu Jardin Suspendu 2018   \n",
       "\n",
       "                                          post_excerpt post_status  \\\n",
       "448  Fongeant 2017 explose sur un fruit brillant, p...     publish   \n",
       "449  <span id=\"u1194-83\">Le nez séduit par ses parf...     publish   \n",
       "\n",
       "    comment_status ping_status                                   post_name  \\\n",
       "448         closed      closed  pierre-jean-villa-cote-rotie-fongeant-2017   \n",
       "449         closed      closed    pierre-jean-villa-condrieu-suspendu-2018   \n",
       "\n",
       "          post_modified   post_modified_gmt  \\\n",
       "448 2019-11-02 13:24:15 2019-11-02 12:24:15   \n",
       "449 2019-11-02 13:24:01 2019-11-02 12:24:01   \n",
       "\n",
       "                                                  guid post_type  \\\n",
       "448  https://www.bottle-neck.fr/?post_type=product&...   product   \n",
       "449  https://www.bottle-neck.fr/?post_type=product&...   product   \n",
       "\n",
       "    post_mime_type  \n",
       "448            NaN  \n",
       "449            NaN  "
      ]
     },
     "execution_count": 29,
     "metadata": {},
     "output_type": "execute_result"
    }
   ],
   "source": [
    "web.loc[web['sku'].isna() & ~web['total_sales'].isna()]"
   ]
  },
  {
   "cell_type": "markdown",
   "id": "8281d1ec",
   "metadata": {},
   "source": [
    "La variable \"post_title\" va nous aider à chercher si ces produits existe ailleurs dans notre jeu de données et si nous pourrions donc en déduire leur SKU.\n",
    "\n"
   ]
  },
  {
   "cell_type": "code",
   "execution_count": 30,
   "id": "784b88f7",
   "metadata": {},
   "outputs": [
    {
     "data": {
      "text/html": [
       "<div>\n",
       "<style scoped>\n",
       "    .dataframe tbody tr th:only-of-type {\n",
       "        vertical-align: middle;\n",
       "    }\n",
       "\n",
       "    .dataframe tbody tr th {\n",
       "        vertical-align: top;\n",
       "    }\n",
       "\n",
       "    .dataframe thead th {\n",
       "        text-align: right;\n",
       "    }\n",
       "</style>\n",
       "<table border=\"1\" class=\"dataframe\">\n",
       "  <thead>\n",
       "    <tr style=\"text-align: right;\">\n",
       "      <th></th>\n",
       "      <th>sku</th>\n",
       "      <th>post_title</th>\n",
       "    </tr>\n",
       "  </thead>\n",
       "  <tbody>\n",
       "    <tr>\n",
       "      <th>448</th>\n",
       "      <td>NaN</td>\n",
       "      <td>Pierre Jean Villa Côte Rôtie Fongeant 2017</td>\n",
       "    </tr>\n",
       "    <tr>\n",
       "      <th>449</th>\n",
       "      <td>NaN</td>\n",
       "      <td>Pierre Jean Villa Condrieu Jardin Suspendu 2018</td>\n",
       "    </tr>\n",
       "  </tbody>\n",
       "</table>\n",
       "</div>"
      ],
      "text/plain": [
       "     sku                                       post_title\n",
       "448  NaN       Pierre Jean Villa Côte Rôtie Fongeant 2017\n",
       "449  NaN  Pierre Jean Villa Condrieu Jardin Suspendu 2018"
      ]
     },
     "execution_count": 30,
     "metadata": {},
     "output_type": "execute_result"
    }
   ],
   "source": [
    "web.loc[(web['post_title'].str.contains('^pierre.jean.villa.*fongeant.*2017', case=False)) |\n",
    "           (web['post_title'].str.contains('^pierre.jean.villa.*condrieu.*2018', case=False)),\n",
    "           ['sku', 'post_title']]"
   ]
  },
  {
   "cell_type": "markdown",
   "id": "97d792be",
   "metadata": {},
   "source": [
    "Il n'y a pas d'autres résultats, nous pouvons aussi supprimer ces deux lignes.\n",
    "\n"
   ]
  },
  {
   "cell_type": "code",
   "execution_count": 31,
   "id": "f9867566",
   "metadata": {},
   "outputs": [],
   "source": [
    "web = web.dropna(subset=['sku'], axis='rows').reset_index(drop=True)"
   ]
  },
  {
   "cell_type": "markdown",
   "id": "ba8e8cef",
   "metadata": {},
   "source": [
    "En ce qui concerne les doublons, nous savons déjà qu'il y en a car web compte bien plus de lignes que les autres DataFrame. Vérifions en quelle quantité ils sont présents."
   ]
  },
  {
   "cell_type": "code",
   "execution_count": null,
   "id": "6178cf9a",
   "metadata": {},
   "outputs": [],
   "source": []
  },
  {
   "cell_type": "code",
   "execution_count": 32,
   "id": "5e5b10a2",
   "metadata": {},
   "outputs": [
    {
     "name": "stdout",
     "output_type": "stream",
     "text": [
      "50.00% des lignes du DataFrame sont des doublons.\n"
     ]
    }
   ],
   "source": [
    "taux_doublons_web = web['sku'].nunique() / web['sku'].size\n",
    "\n",
    "print(f'{taux_doublons_web:.2%} des lignes du DataFrame sont des doublons.')\n",
    "\n",
    "del taux_doublons_web"
   ]
  },
  {
   "cell_type": "markdown",
   "id": "d9e291a6",
   "metadata": {},
   "source": [
    "Chaque ligne produit est doublée. Il a surement une différence notable entre une ligne et son doublon qui nous permettra de supprimer les lignes inutiles. Pour cela, nous allons choisir une ligne aléatoirement, puis nous allons chercher son doublon et enfin afficher les deux lignes."
   ]
  },
  {
   "cell_type": "code",
   "execution_count": 33,
   "id": "9770be8d",
   "metadata": {},
   "outputs": [
    {
     "data": {
      "text/html": [
       "<div>\n",
       "<style scoped>\n",
       "    .dataframe tbody tr th:only-of-type {\n",
       "        vertical-align: middle;\n",
       "    }\n",
       "\n",
       "    .dataframe tbody tr th {\n",
       "        vertical-align: top;\n",
       "    }\n",
       "\n",
       "    .dataframe thead th {\n",
       "        text-align: right;\n",
       "    }\n",
       "</style>\n",
       "<table border=\"1\" class=\"dataframe\">\n",
       "  <thead>\n",
       "    <tr style=\"text-align: right;\">\n",
       "      <th></th>\n",
       "      <th>sku</th>\n",
       "      <th>total_sales</th>\n",
       "      <th>tax_status</th>\n",
       "      <th>post_author</th>\n",
       "      <th>post_date</th>\n",
       "      <th>post_date_gmt</th>\n",
       "      <th>post_title</th>\n",
       "      <th>post_excerpt</th>\n",
       "      <th>post_status</th>\n",
       "      <th>comment_status</th>\n",
       "      <th>ping_status</th>\n",
       "      <th>post_name</th>\n",
       "      <th>post_modified</th>\n",
       "      <th>post_modified_gmt</th>\n",
       "      <th>guid</th>\n",
       "      <th>post_type</th>\n",
       "      <th>post_mime_type</th>\n",
       "    </tr>\n",
       "  </thead>\n",
       "  <tbody>\n",
       "    <tr>\n",
       "      <th>413</th>\n",
       "      <td>16515</td>\n",
       "      <td>6.0</td>\n",
       "      <td>taxable</td>\n",
       "      <td>2.0</td>\n",
       "      <td>2018-06-02 09:31:31</td>\n",
       "      <td>2018-06-02 07:31:31</td>\n",
       "      <td>Château Turcaud Bordeaux Rouge Cuvée Majeure 2018</td>\n",
       "      <td>&lt;div id=\"wrapper\"&gt;\\n&lt;div id=\"container-wrapper...</td>\n",
       "      <td>publish</td>\n",
       "      <td>closed</td>\n",
       "      <td>closed</td>\n",
       "      <td>chateau-turcaud-bordeaux-rouge-cuvee-majeure-2018</td>\n",
       "      <td>2020-08-27 10:11:12</td>\n",
       "      <td>2020-08-27 08:11:12</td>\n",
       "      <td>https://www.bottle-neck.fr/?post_type=product&amp;...</td>\n",
       "      <td>product</td>\n",
       "      <td>NaN</td>\n",
       "    </tr>\n",
       "    <tr>\n",
       "      <th>1127</th>\n",
       "      <td>16515</td>\n",
       "      <td>6.0</td>\n",
       "      <td>NaN</td>\n",
       "      <td>2.0</td>\n",
       "      <td>2018-06-02 09:31:31</td>\n",
       "      <td>2018-06-02 07:31:31</td>\n",
       "      <td>Château Turcaud Bordeaux Rouge Cuvée Majeure 2018</td>\n",
       "      <td>NaN</td>\n",
       "      <td>publish</td>\n",
       "      <td>closed</td>\n",
       "      <td>closed</td>\n",
       "      <td>chateau-turcaud-bordeaux-rouge-cuvee-majeure-2018</td>\n",
       "      <td>2020-08-27 10:11:12</td>\n",
       "      <td>2020-08-27 08:11:12</td>\n",
       "      <td>https://www.bottle-neck.fr/wp-content/uploads/...</td>\n",
       "      <td>attachment</td>\n",
       "      <td>image/jpeg</td>\n",
       "    </tr>\n",
       "  </tbody>\n",
       "</table>\n",
       "</div>"
      ],
      "text/plain": [
       "        sku  total_sales tax_status post_author           post_date  \\\n",
       "413   16515          6.0    taxable         2.0 2018-06-02 09:31:31   \n",
       "1127  16515          6.0        NaN         2.0 2018-06-02 09:31:31   \n",
       "\n",
       "           post_date_gmt                                         post_title  \\\n",
       "413  2018-06-02 07:31:31  Château Turcaud Bordeaux Rouge Cuvée Majeure 2018   \n",
       "1127 2018-06-02 07:31:31  Château Turcaud Bordeaux Rouge Cuvée Majeure 2018   \n",
       "\n",
       "                                           post_excerpt post_status  \\\n",
       "413   <div id=\"wrapper\">\\n<div id=\"container-wrapper...     publish   \n",
       "1127                                                NaN     publish   \n",
       "\n",
       "     comment_status ping_status  \\\n",
       "413          closed      closed   \n",
       "1127         closed      closed   \n",
       "\n",
       "                                              post_name       post_modified  \\\n",
       "413   chateau-turcaud-bordeaux-rouge-cuvee-majeure-2018 2020-08-27 10:11:12   \n",
       "1127  chateau-turcaud-bordeaux-rouge-cuvee-majeure-2018 2020-08-27 10:11:12   \n",
       "\n",
       "       post_modified_gmt                                               guid  \\\n",
       "413  2020-08-27 08:11:12  https://www.bottle-neck.fr/?post_type=product&...   \n",
       "1127 2020-08-27 08:11:12  https://www.bottle-neck.fr/wp-content/uploads/...   \n",
       "\n",
       "       post_type post_mime_type  \n",
       "413      product            NaN  \n",
       "1127  attachment     image/jpeg  "
      ]
     },
     "execution_count": 33,
     "metadata": {},
     "output_type": "execute_result"
    }
   ],
   "source": [
    "# Sélection aléatoire d'une ligne\n",
    "random_index = np.random.randint(0, len(liaison['product_id']))\n",
    "\n",
    "# Sélection SKU à partir de l'index de la ligne aléatoire\n",
    "random_sku = web['sku'].iloc[random_index]\n",
    "\n",
    "# Affichage des deux lignes en doublons\n",
    "web.loc[web['sku'] == random_sku]"
   ]
  },
  {
   "cell_type": "code",
   "execution_count": 34,
   "id": "1a2f1496",
   "metadata": {},
   "outputs": [],
   "source": [
    "del random_index, random_sku"
   ]
  },
  {
   "cell_type": "markdown",
   "id": "f9147295",
   "metadata": {},
   "source": [
    "Quelques variables, dont \"post_type\", diffèrent. Cette dernière prend soit la valeur \"product\", soit la valeur \"attachment\". Nous n'allons conserver que les lignes \"product\". Malgré tout, par mesure de sécurité, vérifions si \"post_type\" ne prend pas d'autre(s) valeur(s)."
   ]
  },
  {
   "cell_type": "code",
   "execution_count": 35,
   "id": "98ed6c8d",
   "metadata": {},
   "outputs": [
    {
     "data": {
      "text/plain": [
       "array(['product', 'attachment'], dtype=object)"
      ]
     },
     "execution_count": 35,
     "metadata": {},
     "output_type": "execute_result"
    }
   ],
   "source": [
    "web['post_type'].unique()"
   ]
  },
  {
   "cell_type": "markdown",
   "id": "73038368",
   "metadata": {},
   "source": [
    "La vérification est concluante, on peut supprimer les lignes.\n",
    "\n"
   ]
  },
  {
   "cell_type": "code",
   "execution_count": 36,
   "id": "8dd564be",
   "metadata": {},
   "outputs": [],
   "source": [
    "web = web.loc[web['post_type'] != 'attachment'].copy()"
   ]
  },
  {
   "cell_type": "markdown",
   "id": "93183b7a",
   "metadata": {},
   "source": [
    "Voyons à quoi ressemble maintenant le DataFrame.\n",
    "\n"
   ]
  },
  {
   "cell_type": "code",
   "execution_count": 37,
   "id": "a384c9af",
   "metadata": {},
   "outputs": [
    {
     "data": {
      "text/html": [
       "<div>\n",
       "<style scoped>\n",
       "    .dataframe tbody tr th:only-of-type {\n",
       "        vertical-align: middle;\n",
       "    }\n",
       "\n",
       "    .dataframe tbody tr th {\n",
       "        vertical-align: top;\n",
       "    }\n",
       "\n",
       "    .dataframe thead th {\n",
       "        text-align: right;\n",
       "    }\n",
       "</style>\n",
       "<table border=\"1\" class=\"dataframe\">\n",
       "  <thead>\n",
       "    <tr style=\"text-align: right;\">\n",
       "      <th></th>\n",
       "      <th>sku</th>\n",
       "      <th>total_sales</th>\n",
       "      <th>tax_status</th>\n",
       "      <th>post_author</th>\n",
       "      <th>post_date</th>\n",
       "      <th>post_date_gmt</th>\n",
       "      <th>post_title</th>\n",
       "      <th>post_excerpt</th>\n",
       "      <th>post_status</th>\n",
       "      <th>comment_status</th>\n",
       "      <th>ping_status</th>\n",
       "      <th>post_name</th>\n",
       "      <th>post_modified</th>\n",
       "      <th>post_modified_gmt</th>\n",
       "      <th>guid</th>\n",
       "      <th>post_type</th>\n",
       "      <th>post_mime_type</th>\n",
       "    </tr>\n",
       "  </thead>\n",
       "  <tbody>\n",
       "    <tr>\n",
       "      <th>0</th>\n",
       "      <td>bon-cadeau-25-euros</td>\n",
       "      <td>10.0</td>\n",
       "      <td>taxable</td>\n",
       "      <td>1.0</td>\n",
       "      <td>2018-06-01 13:53:46</td>\n",
       "      <td>2018-06-01 11:53:46</td>\n",
       "      <td>Bon cadeau de 25€</td>\n",
       "      <td>&lt;span style=\"color: #a85253;\"&gt;&lt;strong&gt;Parlons ...</td>\n",
       "      <td>publish</td>\n",
       "      <td>closed</td>\n",
       "      <td>closed</td>\n",
       "      <td>bon-cadeau-de-25-euros</td>\n",
       "      <td>2018-06-01 14:13:57</td>\n",
       "      <td>2018-06-01 12:13:57</td>\n",
       "      <td>https://www.bottle-neck.fr/?post_type=product&amp;...</td>\n",
       "      <td>product</td>\n",
       "      <td>NaN</td>\n",
       "    </tr>\n",
       "    <tr>\n",
       "      <th>1</th>\n",
       "      <td>15298</td>\n",
       "      <td>6.0</td>\n",
       "      <td>taxable</td>\n",
       "      <td>2.0</td>\n",
       "      <td>2018-02-08 12:58:52</td>\n",
       "      <td>2018-02-08 11:58:52</td>\n",
       "      <td>Pierre Jean Villa Saint-Joseph Préface 2018</td>\n",
       "      <td>Il exhale un nez subtil, racé avec du poivre f...</td>\n",
       "      <td>publish</td>\n",
       "      <td>closed</td>\n",
       "      <td>closed</td>\n",
       "      <td>pierre-jean-villa-saint-joseph-preface-2018</td>\n",
       "      <td>2019-12-30 09:30:29</td>\n",
       "      <td>2019-12-30 08:30:29</td>\n",
       "      <td>https://www.bottle-neck.fr/?post_type=product&amp;...</td>\n",
       "      <td>product</td>\n",
       "      <td>NaN</td>\n",
       "    </tr>\n",
       "    <tr>\n",
       "      <th>2</th>\n",
       "      <td>15296</td>\n",
       "      <td>0.0</td>\n",
       "      <td>taxable</td>\n",
       "      <td>2.0</td>\n",
       "      <td>2018-02-08 13:49:41</td>\n",
       "      <td>2018-02-08 12:49:41</td>\n",
       "      <td>Pierre Jean Villa Saint-Joseph Rouge Tildé 2017</td>\n",
       "      <td>Les vieilles vignes lui apportent une rare pro...</td>\n",
       "      <td>publish</td>\n",
       "      <td>closed</td>\n",
       "      <td>closed</td>\n",
       "      <td>pierre-jean-villa-saint-joseph-tilde-2017</td>\n",
       "      <td>2019-12-21 09:00:17</td>\n",
       "      <td>2019-12-21 08:00:17</td>\n",
       "      <td>https://www.bottle-neck.fr/?post_type=product&amp;...</td>\n",
       "      <td>product</td>\n",
       "      <td>NaN</td>\n",
       "    </tr>\n",
       "    <tr>\n",
       "      <th>3</th>\n",
       "      <td>15300</td>\n",
       "      <td>0.0</td>\n",
       "      <td>taxable</td>\n",
       "      <td>2.0</td>\n",
       "      <td>2018-02-08 14:08:36</td>\n",
       "      <td>2018-02-08 13:08:36</td>\n",
       "      <td>Pierre Jean Villa Crozes-Hermitage Accroche Co...</td>\n",
       "      <td>Dentelle de fruit de jeunes syrah, aux tanins ...</td>\n",
       "      <td>publish</td>\n",
       "      <td>closed</td>\n",
       "      <td>closed</td>\n",
       "      <td>pierre-jean-villa-croze-hermitage-accroche-coe...</td>\n",
       "      <td>2020-06-26 18:15:03</td>\n",
       "      <td>2020-06-26 16:15:03</td>\n",
       "      <td>https://www.bottle-neck.fr/?post_type=product&amp;...</td>\n",
       "      <td>product</td>\n",
       "      <td>NaN</td>\n",
       "    </tr>\n",
       "    <tr>\n",
       "      <th>4</th>\n",
       "      <td>19814</td>\n",
       "      <td>3.0</td>\n",
       "      <td>taxable</td>\n",
       "      <td>2.0</td>\n",
       "      <td>2018-02-09 14:01:05</td>\n",
       "      <td>2018-02-09 13:01:05</td>\n",
       "      <td>Pierre Jean Villa IGP Collines Rhodaniennes Ga...</td>\n",
       "      <td>Gamine représente tout le fruité et la gourman...</td>\n",
       "      <td>publish</td>\n",
       "      <td>closed</td>\n",
       "      <td>closed</td>\n",
       "      <td>pierre-jean-villa-igp-gamine-2018</td>\n",
       "      <td>2020-01-04 16:36:01</td>\n",
       "      <td>2020-01-04 15:36:01</td>\n",
       "      <td>https://www.bottle-neck.fr/?post_type=product&amp;...</td>\n",
       "      <td>product</td>\n",
       "      <td>NaN</td>\n",
       "    </tr>\n",
       "  </tbody>\n",
       "</table>\n",
       "</div>"
      ],
      "text/plain": [
       "                   sku  total_sales tax_status post_author  \\\n",
       "0  bon-cadeau-25-euros         10.0    taxable         1.0   \n",
       "1                15298          6.0    taxable         2.0   \n",
       "2                15296          0.0    taxable         2.0   \n",
       "3                15300          0.0    taxable         2.0   \n",
       "4                19814          3.0    taxable         2.0   \n",
       "\n",
       "            post_date       post_date_gmt  \\\n",
       "0 2018-06-01 13:53:46 2018-06-01 11:53:46   \n",
       "1 2018-02-08 12:58:52 2018-02-08 11:58:52   \n",
       "2 2018-02-08 13:49:41 2018-02-08 12:49:41   \n",
       "3 2018-02-08 14:08:36 2018-02-08 13:08:36   \n",
       "4 2018-02-09 14:01:05 2018-02-09 13:01:05   \n",
       "\n",
       "                                          post_title  \\\n",
       "0                                  Bon cadeau de 25€   \n",
       "1        Pierre Jean Villa Saint-Joseph Préface 2018   \n",
       "2    Pierre Jean Villa Saint-Joseph Rouge Tildé 2017   \n",
       "3  Pierre Jean Villa Crozes-Hermitage Accroche Co...   \n",
       "4  Pierre Jean Villa IGP Collines Rhodaniennes Ga...   \n",
       "\n",
       "                                        post_excerpt post_status  \\\n",
       "0  <span style=\"color: #a85253;\"><strong>Parlons ...     publish   \n",
       "1  Il exhale un nez subtil, racé avec du poivre f...     publish   \n",
       "2  Les vieilles vignes lui apportent une rare pro...     publish   \n",
       "3  Dentelle de fruit de jeunes syrah, aux tanins ...     publish   \n",
       "4  Gamine représente tout le fruité et la gourman...     publish   \n",
       "\n",
       "  comment_status ping_status  \\\n",
       "0         closed      closed   \n",
       "1         closed      closed   \n",
       "2         closed      closed   \n",
       "3         closed      closed   \n",
       "4         closed      closed   \n",
       "\n",
       "                                           post_name       post_modified  \\\n",
       "0                             bon-cadeau-de-25-euros 2018-06-01 14:13:57   \n",
       "1        pierre-jean-villa-saint-joseph-preface-2018 2019-12-30 09:30:29   \n",
       "2          pierre-jean-villa-saint-joseph-tilde-2017 2019-12-21 09:00:17   \n",
       "3  pierre-jean-villa-croze-hermitage-accroche-coe... 2020-06-26 18:15:03   \n",
       "4                  pierre-jean-villa-igp-gamine-2018 2020-01-04 16:36:01   \n",
       "\n",
       "    post_modified_gmt                                               guid  \\\n",
       "0 2018-06-01 12:13:57  https://www.bottle-neck.fr/?post_type=product&...   \n",
       "1 2019-12-30 08:30:29  https://www.bottle-neck.fr/?post_type=product&...   \n",
       "2 2019-12-21 08:00:17  https://www.bottle-neck.fr/?post_type=product&...   \n",
       "3 2020-06-26 16:15:03  https://www.bottle-neck.fr/?post_type=product&...   \n",
       "4 2020-01-04 15:36:01  https://www.bottle-neck.fr/?post_type=product&...   \n",
       "\n",
       "  post_type post_mime_type  \n",
       "0   product            NaN  \n",
       "1   product            NaN  \n",
       "2   product            NaN  \n",
       "3   product            NaN  \n",
       "4   product            NaN  "
      ]
     },
     "execution_count": 37,
     "metadata": {},
     "output_type": "execute_result"
    }
   ],
   "source": [
    "web.head()"
   ]
  },
  {
   "cell_type": "markdown",
   "id": "9f70a6f9",
   "metadata": {},
   "source": [
    "Nous avons nettoyé les lignes, essayons de supprimer encore quelques colonnes inutiles.\n",
    "\n"
   ]
  },
  {
   "cell_type": "code",
   "execution_count": 38,
   "id": "bb57bba8",
   "metadata": {},
   "outputs": [
    {
     "data": {
      "text/plain": [
       "sku                  714\n",
       "total_sales           41\n",
       "tax_status             1\n",
       "post_author            2\n",
       "post_date            714\n",
       "post_date_gmt        714\n",
       "post_title           711\n",
       "post_excerpt         677\n",
       "post_status            1\n",
       "comment_status         1\n",
       "ping_status            1\n",
       "post_name            714\n",
       "post_modified        587\n",
       "post_modified_gmt    587\n",
       "guid                 714\n",
       "post_type              1\n",
       "post_mime_type         0\n",
       "dtype: int64"
      ]
     },
     "execution_count": 38,
     "metadata": {},
     "output_type": "execute_result"
    }
   ],
   "source": [
    "web.nunique()"
   ]
  },
  {
   "cell_type": "markdown",
   "id": "dca5f79f",
   "metadata": {},
   "source": [
    "On constate bien que l'on peut encore faire un peu de nettoyage:\n",
    "\n",
    "suppression des variables n'ayant qu'une valeur ou n'ayant que des valeurs manquantes;\n",
    "suppression des variables non pertinentes pour la suite de l'analyse;\n",
    "suppression des dates au format GMT (en doublon).\n",
    "Enfin, nous allons modifier l'affichage des dates restantes en ne conservant que l'année, le mois et le jour."
   ]
  },
  {
   "cell_type": "code",
   "execution_count": 39,
   "id": "6025f853",
   "metadata": {},
   "outputs": [],
   "source": [
    "# On ne conserve que les variables ayant au moins 2 valeurs différentes\n",
    "web = web.loc[:, (web.nunique() > 2)].copy()\n",
    "\n",
    "# Suppression colonnes non pertinentes\n",
    "web = web.drop(['post_date_gmt', 'post_name', 'post_excerpt',\n",
    "                     'post_modified_gmt', 'guid'], axis='columns')\n",
    "\n",
    "# Modification format dates\n",
    "web['post_date'] = web['post_date'].dt.normalize()\n",
    "web['post_modified'] = web['post_modified'].dt.normalize()"
   ]
  },
  {
   "cell_type": "markdown",
   "id": "c7a0aea2",
   "metadata": {},
   "source": [
    "Le nettoyage des données est terminé.\n",
    "\n"
   ]
  },
  {
   "cell_type": "markdown",
   "id": "944e4fb7",
   "metadata": {},
   "source": [
    "# Rapprochement des exports"
   ]
  },
  {
   "cell_type": "markdown",
   "id": "93ca0649",
   "metadata": {},
   "source": [
    "Le regroupement des données va être effectué dans un nouveau DataFrame que nous appellerons df_final. Cela va se passer en quatre étapes:\n",
    "\n",
    "regroupement des données de l'ERP avec le fichier de liaison;\n",
    "vérification et nettoyage du premier regroupement;\n",
    "regroupement du DataFrame obtenu avec les données du CMS;\n",
    "vérification et nettoyage du jeu de données final."
   ]
  },
  {
   "cell_type": "code",
   "execution_count": 40,
   "id": "559731ef",
   "metadata": {},
   "outputs": [
    {
     "data": {
      "text/html": [
       "<div>\n",
       "<style scoped>\n",
       "    .dataframe tbody tr th:only-of-type {\n",
       "        vertical-align: middle;\n",
       "    }\n",
       "\n",
       "    .dataframe tbody tr th {\n",
       "        vertical-align: top;\n",
       "    }\n",
       "\n",
       "    .dataframe thead th {\n",
       "        text-align: right;\n",
       "    }\n",
       "</style>\n",
       "<table border=\"1\" class=\"dataframe\">\n",
       "  <thead>\n",
       "    <tr style=\"text-align: right;\">\n",
       "      <th></th>\n",
       "      <th>product_id</th>\n",
       "      <th>onsale_web</th>\n",
       "      <th>price</th>\n",
       "      <th>stock_quantity</th>\n",
       "      <th>stock_status</th>\n",
       "      <th>sku</th>\n",
       "    </tr>\n",
       "  </thead>\n",
       "  <tbody>\n",
       "    <tr>\n",
       "      <th>0</th>\n",
       "      <td>3847</td>\n",
       "      <td>True</td>\n",
       "      <td>24.2</td>\n",
       "      <td>0</td>\n",
       "      <td>outofstock</td>\n",
       "      <td>15298</td>\n",
       "    </tr>\n",
       "    <tr>\n",
       "      <th>1</th>\n",
       "      <td>3849</td>\n",
       "      <td>True</td>\n",
       "      <td>34.3</td>\n",
       "      <td>0</td>\n",
       "      <td>outofstock</td>\n",
       "      <td>15296</td>\n",
       "    </tr>\n",
       "    <tr>\n",
       "      <th>2</th>\n",
       "      <td>3850</td>\n",
       "      <td>True</td>\n",
       "      <td>20.8</td>\n",
       "      <td>0</td>\n",
       "      <td>outofstock</td>\n",
       "      <td>15300</td>\n",
       "    </tr>\n",
       "    <tr>\n",
       "      <th>3</th>\n",
       "      <td>4032</td>\n",
       "      <td>True</td>\n",
       "      <td>14.1</td>\n",
       "      <td>0</td>\n",
       "      <td>outofstock</td>\n",
       "      <td>19814</td>\n",
       "    </tr>\n",
       "    <tr>\n",
       "      <th>4</th>\n",
       "      <td>4039</td>\n",
       "      <td>True</td>\n",
       "      <td>46.0</td>\n",
       "      <td>0</td>\n",
       "      <td>outofstock</td>\n",
       "      <td>19815</td>\n",
       "    </tr>\n",
       "  </tbody>\n",
       "</table>\n",
       "</div>"
      ],
      "text/plain": [
       "  product_id  onsale_web  price  stock_quantity stock_status    sku\n",
       "0       3847        True   24.2               0   outofstock  15298\n",
       "1       3849        True   34.3               0   outofstock  15296\n",
       "2       3850        True   20.8               0   outofstock  15300\n",
       "3       4032        True   14.1               0   outofstock  19814\n",
       "4       4039        True   46.0               0   outofstock  19815"
      ]
     },
     "execution_count": 40,
     "metadata": {},
     "output_type": "execute_result"
    }
   ],
   "source": [
    "df_final = pd.merge((erp), (liaison), on = ['product_id'], how = 'left')\n",
    "df_final.head()"
   ]
  },
  {
   "cell_type": "code",
   "execution_count": 41,
   "id": "69368a49",
   "metadata": {},
   "outputs": [
    {
     "data": {
      "text/plain": [
       "(825, 6)"
      ]
     },
     "execution_count": 41,
     "metadata": {},
     "output_type": "execute_result"
    }
   ],
   "source": [
    "df_final.shape"
   ]
  },
  {
   "cell_type": "markdown",
   "id": "1418b49c",
   "metadata": {},
   "source": [
    "Le premier regroupement s'est correctement déroulé. Voyons les valeurs manquantes.\n",
    "\n"
   ]
  },
  {
   "cell_type": "code",
   "execution_count": 42,
   "id": "c2feac8a",
   "metadata": {},
   "outputs": [
    {
     "data": {
      "text/plain": [
       "product_id         0\n",
       "onsale_web         0\n",
       "price              0\n",
       "stock_quantity     0\n",
       "stock_status       0\n",
       "sku               91\n",
       "dtype: int64"
      ]
     },
     "execution_count": 42,
     "metadata": {},
     "output_type": "execute_result"
    }
   ],
   "source": [
    "df_final.isna().sum()\n"
   ]
  },
  {
   "cell_type": "markdown",
   "id": "be590876",
   "metadata": {},
   "source": [
    "Il manque 91 valeurs dans \"sku\" ce qui est logique puisque qu'il manquait 91 correspondances dans le fichier de liaison d'origine.\n",
    "Avant de supprimer ces lignes affichons, grâce à \"onsale_web\", les produits que l'on aurait pu retrouver dans les ventes en ligne."
   ]
  },
  {
   "cell_type": "code",
   "execution_count": 43,
   "id": "97c80372",
   "metadata": {},
   "outputs": [
    {
     "data": {
      "text/html": [
       "<div>\n",
       "<style scoped>\n",
       "    .dataframe tbody tr th:only-of-type {\n",
       "        vertical-align: middle;\n",
       "    }\n",
       "\n",
       "    .dataframe tbody tr th {\n",
       "        vertical-align: top;\n",
       "    }\n",
       "\n",
       "    .dataframe thead th {\n",
       "        text-align: right;\n",
       "    }\n",
       "</style>\n",
       "<table border=\"1\" class=\"dataframe\">\n",
       "  <thead>\n",
       "    <tr style=\"text-align: right;\">\n",
       "      <th></th>\n",
       "      <th>product_id</th>\n",
       "      <th>onsale_web</th>\n",
       "      <th>price</th>\n",
       "      <th>stock_quantity</th>\n",
       "      <th>stock_status</th>\n",
       "      <th>sku</th>\n",
       "    </tr>\n",
       "  </thead>\n",
       "  <tbody>\n",
       "    <tr>\n",
       "      <th>242</th>\n",
       "      <td>4594</td>\n",
       "      <td>True</td>\n",
       "      <td>144.0</td>\n",
       "      <td>0</td>\n",
       "      <td>outofstock</td>\n",
       "      <td>NaN</td>\n",
       "    </tr>\n",
       "    <tr>\n",
       "      <th>486</th>\n",
       "      <td>5070</td>\n",
       "      <td>True</td>\n",
       "      <td>84.7</td>\n",
       "      <td>0</td>\n",
       "      <td>outofstock</td>\n",
       "      <td>NaN</td>\n",
       "    </tr>\n",
       "    <tr>\n",
       "      <th>487</th>\n",
       "      <td>5075</td>\n",
       "      <td>True</td>\n",
       "      <td>43.3</td>\n",
       "      <td>0</td>\n",
       "      <td>outofstock</td>\n",
       "      <td>NaN</td>\n",
       "    </tr>\n",
       "  </tbody>\n",
       "</table>\n",
       "</div>"
      ],
      "text/plain": [
       "    product_id  onsale_web  price  stock_quantity stock_status  sku\n",
       "242       4594        True  144.0               0   outofstock  NaN\n",
       "486       5070        True   84.7               0   outofstock  NaN\n",
       "487       5075        True   43.3               0   outofstock  NaN"
      ]
     },
     "execution_count": 43,
     "metadata": {},
     "output_type": "execute_result"
    }
   ],
   "source": [
    "df_final.loc[(df_final['sku'].isna()) & (df_final['onsale_web'] == True)]\n"
   ]
  },
  {
   "cell_type": "markdown",
   "id": "846deb23",
   "metadata": {},
   "source": [
    "Il n'y a que 3 produits, cela ne devrait pas trop affecter nos analyses.\n",
    "\n"
   ]
  },
  {
   "cell_type": "code",
   "execution_count": 44,
   "id": "63e1cbc8",
   "metadata": {},
   "outputs": [],
   "source": [
    "df_final = df_final.loc[~df_final['sku'].isna()].copy().reset_index(drop=True)\n"
   ]
  },
  {
   "cell_type": "markdown",
   "id": "a9d6febc",
   "metadata": {},
   "source": [
    "On passe à la deuxième jointure.\n",
    "\n"
   ]
  },
  {
   "cell_type": "code",
   "execution_count": 45,
   "id": "26b071c1",
   "metadata": {},
   "outputs": [
    {
     "data": {
      "text/html": [
       "<div>\n",
       "<style scoped>\n",
       "    .dataframe tbody tr th:only-of-type {\n",
       "        vertical-align: middle;\n",
       "    }\n",
       "\n",
       "    .dataframe tbody tr th {\n",
       "        vertical-align: top;\n",
       "    }\n",
       "\n",
       "    .dataframe thead th {\n",
       "        text-align: right;\n",
       "    }\n",
       "</style>\n",
       "<table border=\"1\" class=\"dataframe\">\n",
       "  <thead>\n",
       "    <tr style=\"text-align: right;\">\n",
       "      <th></th>\n",
       "      <th>product_id</th>\n",
       "      <th>onsale_web</th>\n",
       "      <th>price</th>\n",
       "      <th>stock_quantity</th>\n",
       "      <th>stock_status</th>\n",
       "      <th>sku</th>\n",
       "      <th>total_sales</th>\n",
       "      <th>post_date</th>\n",
       "      <th>post_title</th>\n",
       "      <th>post_modified</th>\n",
       "    </tr>\n",
       "  </thead>\n",
       "  <tbody>\n",
       "    <tr>\n",
       "      <th>0</th>\n",
       "      <td>3847</td>\n",
       "      <td>True</td>\n",
       "      <td>24.2</td>\n",
       "      <td>0</td>\n",
       "      <td>outofstock</td>\n",
       "      <td>15298</td>\n",
       "      <td>6.0</td>\n",
       "      <td>2018-02-08</td>\n",
       "      <td>Pierre Jean Villa Saint-Joseph Préface 2018</td>\n",
       "      <td>2019-12-30</td>\n",
       "    </tr>\n",
       "    <tr>\n",
       "      <th>1</th>\n",
       "      <td>3849</td>\n",
       "      <td>True</td>\n",
       "      <td>34.3</td>\n",
       "      <td>0</td>\n",
       "      <td>outofstock</td>\n",
       "      <td>15296</td>\n",
       "      <td>0.0</td>\n",
       "      <td>2018-02-08</td>\n",
       "      <td>Pierre Jean Villa Saint-Joseph Rouge Tildé 2017</td>\n",
       "      <td>2019-12-21</td>\n",
       "    </tr>\n",
       "    <tr>\n",
       "      <th>2</th>\n",
       "      <td>3850</td>\n",
       "      <td>True</td>\n",
       "      <td>20.8</td>\n",
       "      <td>0</td>\n",
       "      <td>outofstock</td>\n",
       "      <td>15300</td>\n",
       "      <td>0.0</td>\n",
       "      <td>2018-02-08</td>\n",
       "      <td>Pierre Jean Villa Crozes-Hermitage Accroche Co...</td>\n",
       "      <td>2020-06-26</td>\n",
       "    </tr>\n",
       "    <tr>\n",
       "      <th>3</th>\n",
       "      <td>4032</td>\n",
       "      <td>True</td>\n",
       "      <td>14.1</td>\n",
       "      <td>0</td>\n",
       "      <td>outofstock</td>\n",
       "      <td>19814</td>\n",
       "      <td>3.0</td>\n",
       "      <td>2018-02-09</td>\n",
       "      <td>Pierre Jean Villa IGP Collines Rhodaniennes Ga...</td>\n",
       "      <td>2020-01-04</td>\n",
       "    </tr>\n",
       "    <tr>\n",
       "      <th>4</th>\n",
       "      <td>4039</td>\n",
       "      <td>True</td>\n",
       "      <td>46.0</td>\n",
       "      <td>0</td>\n",
       "      <td>outofstock</td>\n",
       "      <td>19815</td>\n",
       "      <td>0.0</td>\n",
       "      <td>2018-02-12</td>\n",
       "      <td>Pierre Jean Villa Côte Rôtie Carmina 2017</td>\n",
       "      <td>2020-01-04</td>\n",
       "    </tr>\n",
       "  </tbody>\n",
       "</table>\n",
       "</div>"
      ],
      "text/plain": [
       "  product_id  onsale_web  price  stock_quantity stock_status    sku  \\\n",
       "0       3847        True   24.2               0   outofstock  15298   \n",
       "1       3849        True   34.3               0   outofstock  15296   \n",
       "2       3850        True   20.8               0   outofstock  15300   \n",
       "3       4032        True   14.1               0   outofstock  19814   \n",
       "4       4039        True   46.0               0   outofstock  19815   \n",
       "\n",
       "   total_sales  post_date                                         post_title  \\\n",
       "0          6.0 2018-02-08        Pierre Jean Villa Saint-Joseph Préface 2018   \n",
       "1          0.0 2018-02-08    Pierre Jean Villa Saint-Joseph Rouge Tildé 2017   \n",
       "2          0.0 2018-02-08  Pierre Jean Villa Crozes-Hermitage Accroche Co...   \n",
       "3          3.0 2018-02-09  Pierre Jean Villa IGP Collines Rhodaniennes Ga...   \n",
       "4          0.0 2018-02-12          Pierre Jean Villa Côte Rôtie Carmina 2017   \n",
       "\n",
       "  post_modified  \n",
       "0    2019-12-30  \n",
       "1    2019-12-21  \n",
       "2    2020-06-26  \n",
       "3    2020-01-04  \n",
       "4    2020-01-04  "
      ]
     },
     "execution_count": 45,
     "metadata": {},
     "output_type": "execute_result"
    }
   ],
   "source": [
    "df_final = pd.merge((df_final), (web), on = ['sku'], how = 'left')\n",
    "df_final.head()"
   ]
  },
  {
   "cell_type": "code",
   "execution_count": 46,
   "id": "3ae45e0b",
   "metadata": {},
   "outputs": [
    {
     "data": {
      "text/plain": [
       "(734, 10)"
      ]
     },
     "execution_count": 46,
     "metadata": {},
     "output_type": "execute_result"
    }
   ],
   "source": [
    "df_final.shape\n"
   ]
  },
  {
   "cell_type": "code",
   "execution_count": 47,
   "id": "10bba5f4",
   "metadata": {},
   "outputs": [
    {
     "data": {
      "text/plain": [
       "product_id         0\n",
       "onsale_web         0\n",
       "price              0\n",
       "stock_quantity     0\n",
       "stock_status       0\n",
       "sku                0\n",
       "total_sales       20\n",
       "post_date         20\n",
       "post_title        20\n",
       "post_modified     20\n",
       "dtype: int64"
      ]
     },
     "execution_count": 47,
     "metadata": {},
     "output_type": "execute_result"
    }
   ],
   "source": [
    "df_final.isna().sum()\n"
   ]
  },
  {
   "cell_type": "markdown",
   "id": "12af380c",
   "metadata": {},
   "source": [
    "20 lignes ont des valeurs manquantes sur plusieurs variables, nous allons les afficher.\n",
    "\n"
   ]
  },
  {
   "cell_type": "code",
   "execution_count": 48,
   "id": "3f4cb04c",
   "metadata": {},
   "outputs": [
    {
     "data": {
      "text/html": [
       "<div>\n",
       "<style scoped>\n",
       "    .dataframe tbody tr th:only-of-type {\n",
       "        vertical-align: middle;\n",
       "    }\n",
       "\n",
       "    .dataframe tbody tr th {\n",
       "        vertical-align: top;\n",
       "    }\n",
       "\n",
       "    .dataframe thead th {\n",
       "        text-align: right;\n",
       "    }\n",
       "</style>\n",
       "<table border=\"1\" class=\"dataframe\">\n",
       "  <thead>\n",
       "    <tr style=\"text-align: right;\">\n",
       "      <th></th>\n",
       "      <th>product_id</th>\n",
       "      <th>onsale_web</th>\n",
       "      <th>price</th>\n",
       "      <th>stock_quantity</th>\n",
       "      <th>stock_status</th>\n",
       "      <th>sku</th>\n",
       "      <th>total_sales</th>\n",
       "      <th>post_date</th>\n",
       "      <th>post_title</th>\n",
       "      <th>post_modified</th>\n",
       "    </tr>\n",
       "  </thead>\n",
       "  <tbody>\n",
       "    <tr>\n",
       "      <th>185</th>\n",
       "      <td>4289</td>\n",
       "      <td>False</td>\n",
       "      <td>22.8</td>\n",
       "      <td>0</td>\n",
       "      <td>outofstock</td>\n",
       "      <td>13771</td>\n",
       "      <td>NaN</td>\n",
       "      <td>NaT</td>\n",
       "      <td>NaN</td>\n",
       "      <td>NaT</td>\n",
       "    </tr>\n",
       "    <tr>\n",
       "      <th>227</th>\n",
       "      <td>4568</td>\n",
       "      <td>False</td>\n",
       "      <td>21.5</td>\n",
       "      <td>0</td>\n",
       "      <td>outofstock</td>\n",
       "      <td>15065</td>\n",
       "      <td>NaN</td>\n",
       "      <td>NaT</td>\n",
       "      <td>NaN</td>\n",
       "      <td>NaT</td>\n",
       "    </tr>\n",
       "    <tr>\n",
       "      <th>230</th>\n",
       "      <td>4584</td>\n",
       "      <td>False</td>\n",
       "      <td>32.3</td>\n",
       "      <td>0</td>\n",
       "      <td>outofstock</td>\n",
       "      <td>14785</td>\n",
       "      <td>NaN</td>\n",
       "      <td>NaT</td>\n",
       "      <td>NaN</td>\n",
       "      <td>NaT</td>\n",
       "    </tr>\n",
       "    <tr>\n",
       "      <th>334</th>\n",
       "      <td>4741</td>\n",
       "      <td>False</td>\n",
       "      <td>12.4</td>\n",
       "      <td>0</td>\n",
       "      <td>outofstock</td>\n",
       "      <td>12601</td>\n",
       "      <td>NaN</td>\n",
       "      <td>NaT</td>\n",
       "      <td>NaN</td>\n",
       "      <td>NaT</td>\n",
       "    </tr>\n",
       "    <tr>\n",
       "      <th>368</th>\n",
       "      <td>4864</td>\n",
       "      <td>False</td>\n",
       "      <td>8.3</td>\n",
       "      <td>0</td>\n",
       "      <td>outofstock</td>\n",
       "      <td>15154</td>\n",
       "      <td>NaN</td>\n",
       "      <td>NaT</td>\n",
       "      <td>NaN</td>\n",
       "      <td>NaT</td>\n",
       "    </tr>\n",
       "    <tr>\n",
       "      <th>371</th>\n",
       "      <td>4869</td>\n",
       "      <td>False</td>\n",
       "      <td>17.2</td>\n",
       "      <td>0</td>\n",
       "      <td>outofstock</td>\n",
       "      <td>14360</td>\n",
       "      <td>NaN</td>\n",
       "      <td>NaT</td>\n",
       "      <td>NaN</td>\n",
       "      <td>NaT</td>\n",
       "    </tr>\n",
       "    <tr>\n",
       "      <th>399</th>\n",
       "      <td>4921</td>\n",
       "      <td>False</td>\n",
       "      <td>13.8</td>\n",
       "      <td>0</td>\n",
       "      <td>outofstock</td>\n",
       "      <td>15608</td>\n",
       "      <td>NaN</td>\n",
       "      <td>NaT</td>\n",
       "      <td>NaN</td>\n",
       "      <td>NaT</td>\n",
       "    </tr>\n",
       "    <tr>\n",
       "      <th>400</th>\n",
       "      <td>4922</td>\n",
       "      <td>False</td>\n",
       "      <td>21.5</td>\n",
       "      <td>0</td>\n",
       "      <td>outofstock</td>\n",
       "      <td>15586</td>\n",
       "      <td>NaN</td>\n",
       "      <td>NaT</td>\n",
       "      <td>NaN</td>\n",
       "      <td>NaT</td>\n",
       "    </tr>\n",
       "    <tr>\n",
       "      <th>443</th>\n",
       "      <td>5018</td>\n",
       "      <td>False</td>\n",
       "      <td>15.4</td>\n",
       "      <td>0</td>\n",
       "      <td>outofstock</td>\n",
       "      <td>15272</td>\n",
       "      <td>NaN</td>\n",
       "      <td>NaT</td>\n",
       "      <td>NaN</td>\n",
       "      <td>NaT</td>\n",
       "    </tr>\n",
       "    <tr>\n",
       "      <th>445</th>\n",
       "      <td>5021</td>\n",
       "      <td>False</td>\n",
       "      <td>17.1</td>\n",
       "      <td>0</td>\n",
       "      <td>outofstock</td>\n",
       "      <td>15630</td>\n",
       "      <td>NaN</td>\n",
       "      <td>NaT</td>\n",
       "      <td>NaN</td>\n",
       "      <td>NaT</td>\n",
       "    </tr>\n",
       "    <tr>\n",
       "      <th>493</th>\n",
       "      <td>5505</td>\n",
       "      <td>False</td>\n",
       "      <td>10.1</td>\n",
       "      <td>0</td>\n",
       "      <td>outofstock</td>\n",
       "      <td>14648</td>\n",
       "      <td>NaN</td>\n",
       "      <td>NaT</td>\n",
       "      <td>NaN</td>\n",
       "      <td>NaT</td>\n",
       "    </tr>\n",
       "    <tr>\n",
       "      <th>510</th>\n",
       "      <td>5559</td>\n",
       "      <td>False</td>\n",
       "      <td>27.9</td>\n",
       "      <td>3</td>\n",
       "      <td>instock</td>\n",
       "      <td>14715</td>\n",
       "      <td>NaN</td>\n",
       "      <td>NaT</td>\n",
       "      <td>NaN</td>\n",
       "      <td>NaT</td>\n",
       "    </tr>\n",
       "    <tr>\n",
       "      <th>516</th>\n",
       "      <td>5570</td>\n",
       "      <td>False</td>\n",
       "      <td>22.5</td>\n",
       "      <td>0</td>\n",
       "      <td>outofstock</td>\n",
       "      <td>14730</td>\n",
       "      <td>NaN</td>\n",
       "      <td>NaT</td>\n",
       "      <td>NaN</td>\n",
       "      <td>NaT</td>\n",
       "    </tr>\n",
       "    <tr>\n",
       "      <th>581</th>\n",
       "      <td>5800</td>\n",
       "      <td>False</td>\n",
       "      <td>32.3</td>\n",
       "      <td>0</td>\n",
       "      <td>outofstock</td>\n",
       "      <td>14689</td>\n",
       "      <td>NaN</td>\n",
       "      <td>NaT</td>\n",
       "      <td>NaN</td>\n",
       "      <td>NaT</td>\n",
       "    </tr>\n",
       "    <tr>\n",
       "      <th>625</th>\n",
       "      <td>5953</td>\n",
       "      <td>False</td>\n",
       "      <td>47.5</td>\n",
       "      <td>0</td>\n",
       "      <td>outofstock</td>\n",
       "      <td>14379</td>\n",
       "      <td>NaN</td>\n",
       "      <td>NaT</td>\n",
       "      <td>NaN</td>\n",
       "      <td>NaT</td>\n",
       "    </tr>\n",
       "    <tr>\n",
       "      <th>626</th>\n",
       "      <td>5954</td>\n",
       "      <td>False</td>\n",
       "      <td>18.8</td>\n",
       "      <td>0</td>\n",
       "      <td>outofstock</td>\n",
       "      <td>15609</td>\n",
       "      <td>NaN</td>\n",
       "      <td>NaT</td>\n",
       "      <td>NaN</td>\n",
       "      <td>NaT</td>\n",
       "    </tr>\n",
       "    <tr>\n",
       "      <th>627</th>\n",
       "      <td>5955</td>\n",
       "      <td>False</td>\n",
       "      <td>27.3</td>\n",
       "      <td>0</td>\n",
       "      <td>outofstock</td>\n",
       "      <td>14377</td>\n",
       "      <td>NaN</td>\n",
       "      <td>NaT</td>\n",
       "      <td>NaN</td>\n",
       "      <td>NaT</td>\n",
       "    </tr>\n",
       "    <tr>\n",
       "      <th>629</th>\n",
       "      <td>5957</td>\n",
       "      <td>False</td>\n",
       "      <td>39.0</td>\n",
       "      <td>0</td>\n",
       "      <td>outofstock</td>\n",
       "      <td>13577</td>\n",
       "      <td>NaN</td>\n",
       "      <td>NaT</td>\n",
       "      <td>NaN</td>\n",
       "      <td>NaT</td>\n",
       "    </tr>\n",
       "    <tr>\n",
       "      <th>652</th>\n",
       "      <td>6100</td>\n",
       "      <td>False</td>\n",
       "      <td>12.9</td>\n",
       "      <td>0</td>\n",
       "      <td>outofstock</td>\n",
       "      <td>15529</td>\n",
       "      <td>NaN</td>\n",
       "      <td>NaT</td>\n",
       "      <td>NaN</td>\n",
       "      <td>NaT</td>\n",
       "    </tr>\n",
       "    <tr>\n",
       "      <th>732</th>\n",
       "      <td>7329</td>\n",
       "      <td>False</td>\n",
       "      <td>26.5</td>\n",
       "      <td>14</td>\n",
       "      <td>instock</td>\n",
       "      <td>14680-1</td>\n",
       "      <td>NaN</td>\n",
       "      <td>NaT</td>\n",
       "      <td>NaN</td>\n",
       "      <td>NaT</td>\n",
       "    </tr>\n",
       "  </tbody>\n",
       "</table>\n",
       "</div>"
      ],
      "text/plain": [
       "    product_id  onsale_web  price  stock_quantity stock_status      sku  \\\n",
       "185       4289       False   22.8               0   outofstock    13771   \n",
       "227       4568       False   21.5               0   outofstock    15065   \n",
       "230       4584       False   32.3               0   outofstock    14785   \n",
       "334       4741       False   12.4               0   outofstock    12601   \n",
       "368       4864       False    8.3               0   outofstock    15154   \n",
       "371       4869       False   17.2               0   outofstock    14360   \n",
       "399       4921       False   13.8               0   outofstock    15608   \n",
       "400       4922       False   21.5               0   outofstock    15586   \n",
       "443       5018       False   15.4               0   outofstock    15272   \n",
       "445       5021       False   17.1               0   outofstock    15630   \n",
       "493       5505       False   10.1               0   outofstock    14648   \n",
       "510       5559       False   27.9               3      instock    14715   \n",
       "516       5570       False   22.5               0   outofstock    14730   \n",
       "581       5800       False   32.3               0   outofstock    14689   \n",
       "625       5953       False   47.5               0   outofstock    14379   \n",
       "626       5954       False   18.8               0   outofstock    15609   \n",
       "627       5955       False   27.3               0   outofstock    14377   \n",
       "629       5957       False   39.0               0   outofstock    13577   \n",
       "652       6100       False   12.9               0   outofstock    15529   \n",
       "732       7329       False   26.5              14      instock  14680-1   \n",
       "\n",
       "     total_sales post_date post_title post_modified  \n",
       "185          NaN       NaT        NaN           NaT  \n",
       "227          NaN       NaT        NaN           NaT  \n",
       "230          NaN       NaT        NaN           NaT  \n",
       "334          NaN       NaT        NaN           NaT  \n",
       "368          NaN       NaT        NaN           NaT  \n",
       "371          NaN       NaT        NaN           NaT  \n",
       "399          NaN       NaT        NaN           NaT  \n",
       "400          NaN       NaT        NaN           NaT  \n",
       "443          NaN       NaT        NaN           NaT  \n",
       "445          NaN       NaT        NaN           NaT  \n",
       "493          NaN       NaT        NaN           NaT  \n",
       "510          NaN       NaT        NaN           NaT  \n",
       "516          NaN       NaT        NaN           NaT  \n",
       "581          NaN       NaT        NaN           NaT  \n",
       "625          NaN       NaT        NaN           NaT  \n",
       "626          NaN       NaT        NaN           NaT  \n",
       "627          NaN       NaT        NaN           NaT  \n",
       "629          NaN       NaT        NaN           NaT  \n",
       "652          NaN       NaT        NaN           NaT  \n",
       "732          NaN       NaT        NaN           NaT  "
      ]
     },
     "execution_count": 48,
     "metadata": {},
     "output_type": "execute_result"
    }
   ],
   "source": [
    "df_final.loc[(df_final['total_sales'].isna())]\n"
   ]
  },
  {
   "cell_type": "markdown",
   "id": "2400b400",
   "metadata": {},
   "source": [
    "Les 20 produits dont les ventes ne sont pas connues sont marqués comme non disponibles à la vente en ligne. Ils ont peut-être été créés par erreur, ou alors, leur a statut a changé. Dans tous les cas, leur suppression ne devrait donc pas influencer nos analyses."
   ]
  },
  {
   "cell_type": "code",
   "execution_count": 49,
   "id": "5bd58058",
   "metadata": {},
   "outputs": [],
   "source": [
    "df_final = df_final.loc[~df_final['total_sales'].isna()\n",
    "                        ].copy().reset_index(drop=True)"
   ]
  },
  {
   "cell_type": "code",
   "execution_count": 50,
   "id": "cedd7245",
   "metadata": {},
   "outputs": [
    {
     "data": {
      "text/html": [
       "<div>\n",
       "<style scoped>\n",
       "    .dataframe tbody tr th:only-of-type {\n",
       "        vertical-align: middle;\n",
       "    }\n",
       "\n",
       "    .dataframe tbody tr th {\n",
       "        vertical-align: top;\n",
       "    }\n",
       "\n",
       "    .dataframe thead th {\n",
       "        text-align: right;\n",
       "    }\n",
       "</style>\n",
       "<table border=\"1\" class=\"dataframe\">\n",
       "  <thead>\n",
       "    <tr style=\"text-align: right;\">\n",
       "      <th></th>\n",
       "      <th>product_id</th>\n",
       "      <th>onsale_web</th>\n",
       "      <th>price</th>\n",
       "      <th>stock_quantity</th>\n",
       "      <th>stock_status</th>\n",
       "      <th>sku</th>\n",
       "      <th>total_sales</th>\n",
       "      <th>post_date</th>\n",
       "      <th>post_title</th>\n",
       "      <th>post_modified</th>\n",
       "    </tr>\n",
       "  </thead>\n",
       "  <tbody>\n",
       "    <tr>\n",
       "      <th>0</th>\n",
       "      <td>3847</td>\n",
       "      <td>True</td>\n",
       "      <td>24.2</td>\n",
       "      <td>0</td>\n",
       "      <td>outofstock</td>\n",
       "      <td>15298</td>\n",
       "      <td>6.0</td>\n",
       "      <td>2018-02-08</td>\n",
       "      <td>Pierre Jean Villa Saint-Joseph Préface 2018</td>\n",
       "      <td>2019-12-30</td>\n",
       "    </tr>\n",
       "    <tr>\n",
       "      <th>1</th>\n",
       "      <td>3849</td>\n",
       "      <td>True</td>\n",
       "      <td>34.3</td>\n",
       "      <td>0</td>\n",
       "      <td>outofstock</td>\n",
       "      <td>15296</td>\n",
       "      <td>0.0</td>\n",
       "      <td>2018-02-08</td>\n",
       "      <td>Pierre Jean Villa Saint-Joseph Rouge Tildé 2017</td>\n",
       "      <td>2019-12-21</td>\n",
       "    </tr>\n",
       "    <tr>\n",
       "      <th>2</th>\n",
       "      <td>3850</td>\n",
       "      <td>True</td>\n",
       "      <td>20.8</td>\n",
       "      <td>0</td>\n",
       "      <td>outofstock</td>\n",
       "      <td>15300</td>\n",
       "      <td>0.0</td>\n",
       "      <td>2018-02-08</td>\n",
       "      <td>Pierre Jean Villa Crozes-Hermitage Accroche Co...</td>\n",
       "      <td>2020-06-26</td>\n",
       "    </tr>\n",
       "    <tr>\n",
       "      <th>3</th>\n",
       "      <td>4032</td>\n",
       "      <td>True</td>\n",
       "      <td>14.1</td>\n",
       "      <td>0</td>\n",
       "      <td>outofstock</td>\n",
       "      <td>19814</td>\n",
       "      <td>3.0</td>\n",
       "      <td>2018-02-09</td>\n",
       "      <td>Pierre Jean Villa IGP Collines Rhodaniennes Ga...</td>\n",
       "      <td>2020-01-04</td>\n",
       "    </tr>\n",
       "    <tr>\n",
       "      <th>4</th>\n",
       "      <td>4039</td>\n",
       "      <td>True</td>\n",
       "      <td>46.0</td>\n",
       "      <td>0</td>\n",
       "      <td>outofstock</td>\n",
       "      <td>19815</td>\n",
       "      <td>0.0</td>\n",
       "      <td>2018-02-12</td>\n",
       "      <td>Pierre Jean Villa Côte Rôtie Carmina 2017</td>\n",
       "      <td>2020-01-04</td>\n",
       "    </tr>\n",
       "  </tbody>\n",
       "</table>\n",
       "</div>"
      ],
      "text/plain": [
       "  product_id  onsale_web  price  stock_quantity stock_status    sku  \\\n",
       "0       3847        True   24.2               0   outofstock  15298   \n",
       "1       3849        True   34.3               0   outofstock  15296   \n",
       "2       3850        True   20.8               0   outofstock  15300   \n",
       "3       4032        True   14.1               0   outofstock  19814   \n",
       "4       4039        True   46.0               0   outofstock  19815   \n",
       "\n",
       "   total_sales  post_date                                         post_title  \\\n",
       "0          6.0 2018-02-08        Pierre Jean Villa Saint-Joseph Préface 2018   \n",
       "1          0.0 2018-02-08    Pierre Jean Villa Saint-Joseph Rouge Tildé 2017   \n",
       "2          0.0 2018-02-08  Pierre Jean Villa Crozes-Hermitage Accroche Co...   \n",
       "3          3.0 2018-02-09  Pierre Jean Villa IGP Collines Rhodaniennes Ga...   \n",
       "4          0.0 2018-02-12          Pierre Jean Villa Côte Rôtie Carmina 2017   \n",
       "\n",
       "  post_modified  \n",
       "0    2019-12-30  \n",
       "1    2019-12-21  \n",
       "2    2020-06-26  \n",
       "3    2020-01-04  \n",
       "4    2020-01-04  "
      ]
     },
     "execution_count": 50,
     "metadata": {},
     "output_type": "execute_result"
    }
   ],
   "source": [
    "df_final.head()\n"
   ]
  },
  {
   "cell_type": "code",
   "execution_count": 51,
   "id": "c3891706",
   "metadata": {},
   "outputs": [
    {
     "data": {
      "text/plain": [
       "(714, 10)"
      ]
     },
     "execution_count": 51,
     "metadata": {},
     "output_type": "execute_result"
    }
   ],
   "source": [
    "df_final.shape\n"
   ]
  },
  {
   "cell_type": "markdown",
   "id": "529c715c",
   "metadata": {},
   "source": [
    "Pour terminer, et afin de faciliter la lecture, nous allons modifier l'ordre des colonnes.\n",
    "\n"
   ]
  },
  {
   "cell_type": "code",
   "execution_count": 52,
   "id": "8ea3da9b",
   "metadata": {},
   "outputs": [],
   "source": [
    "# Réorganisation colonnes\n",
    "df_final = df_final[['product_id', 'post_title', 'post_date', 'post_modified',\n",
    "                     'onsale_web', 'sku', 'stock_quantity', 'stock_status',\n",
    "                     'price', 'total_sales']]"
   ]
  },
  {
   "cell_type": "markdown",
   "id": "622eec63",
   "metadata": {},
   "source": [
    "Les DataFrame sources ne sont plus utiles, on peut les supprimer.\n",
    "\n"
   ]
  },
  {
   "cell_type": "code",
   "execution_count": 53,
   "id": "e0c612f7",
   "metadata": {},
   "outputs": [],
   "source": [
    "del erp, liaison, web\n"
   ]
  },
  {
   "cell_type": "markdown",
   "id": "8feb86c9",
   "metadata": {},
   "source": [
    "# Analyse des ventes en ligne"
   ]
  },
  {
   "cell_type": "markdown",
   "id": "d4e2d247",
   "metadata": {},
   "source": [
    "# Chiffre d'affaires par produit\n"
   ]
  },
  {
   "cell_type": "markdown",
   "id": "b9a0f29d",
   "metadata": {},
   "source": [
    "Les prix unitaires et les quantités vendues, nous permettent de calculer le chiffre d'affaires généré par chaque produit ainsi que le poids que cela représente par rapport au total du chiffre."
   ]
  },
  {
   "cell_type": "code",
   "execution_count": 54,
   "id": "4b6577b7",
   "metadata": {},
   "outputs": [],
   "source": [
    "df_final['turnover'] = df_final['price'] * df_final['total_sales']\n",
    "df_final['%_turnover'] = df_final['turnover'] / df_final['turnover'].sum()"
   ]
  },
  {
   "cell_type": "markdown",
   "id": "01a70317",
   "metadata": {},
   "source": [
    "Voyons quels produits génèrent le plus de chiffre d'affaires.\n",
    "\n"
   ]
  },
  {
   "cell_type": "code",
   "execution_count": 55,
   "id": "6445d313",
   "metadata": {},
   "outputs": [
    {
     "data": {
      "text/html": [
       "<div>\n",
       "<style scoped>\n",
       "    .dataframe tbody tr th:only-of-type {\n",
       "        vertical-align: middle;\n",
       "    }\n",
       "\n",
       "    .dataframe tbody tr th {\n",
       "        vertical-align: top;\n",
       "    }\n",
       "\n",
       "    .dataframe thead th {\n",
       "        text-align: right;\n",
       "    }\n",
       "</style>\n",
       "<table border=\"1\" class=\"dataframe\">\n",
       "  <thead>\n",
       "    <tr style=\"text-align: right;\">\n",
       "      <th></th>\n",
       "      <th>product_id</th>\n",
       "      <th>post_title</th>\n",
       "      <th>post_date</th>\n",
       "      <th>post_modified</th>\n",
       "      <th>onsale_web</th>\n",
       "      <th>sku</th>\n",
       "      <th>stock_quantity</th>\n",
       "      <th>stock_status</th>\n",
       "      <th>price</th>\n",
       "      <th>total_sales</th>\n",
       "      <th>turnover</th>\n",
       "      <th>%_turnover</th>\n",
       "    </tr>\n",
       "  </thead>\n",
       "  <tbody>\n",
       "    <tr>\n",
       "      <th>194</th>\n",
       "      <td>4334</td>\n",
       "      <td>Champagne Gosset Grand Blanc de Blancs</td>\n",
       "      <td>2018-03-01</td>\n",
       "      <td>2020-08-12</td>\n",
       "      <td>True</td>\n",
       "      <td>7818</td>\n",
       "      <td>0</td>\n",
       "      <td>outofstock</td>\n",
       "      <td>49.0</td>\n",
       "      <td>96.0</td>\n",
       "      <td>4704.0</td>\n",
       "      <td>0.066659</td>\n",
       "    </tr>\n",
       "    <tr>\n",
       "      <th>71</th>\n",
       "      <td>4144</td>\n",
       "      <td>Champagne Gosset Grand Rosé</td>\n",
       "      <td>2018-02-13</td>\n",
       "      <td>2020-08-14</td>\n",
       "      <td>True</td>\n",
       "      <td>1662</td>\n",
       "      <td>11</td>\n",
       "      <td>instock</td>\n",
       "      <td>49.0</td>\n",
       "      <td>87.0</td>\n",
       "      <td>4263.0</td>\n",
       "      <td>0.060409</td>\n",
       "    </tr>\n",
       "    <tr>\n",
       "      <th>218</th>\n",
       "      <td>4402</td>\n",
       "      <td>Cognac Frapin VIP XO</td>\n",
       "      <td>2018-03-22</td>\n",
       "      <td>2020-08-22</td>\n",
       "      <td>True</td>\n",
       "      <td>3510</td>\n",
       "      <td>8</td>\n",
       "      <td>instock</td>\n",
       "      <td>176.0</td>\n",
       "      <td>13.0</td>\n",
       "      <td>2288.0</td>\n",
       "      <td>0.032422</td>\n",
       "    </tr>\n",
       "    <tr>\n",
       "      <th>70</th>\n",
       "      <td>4142</td>\n",
       "      <td>Champagne Gosset Grand Millésime 2006</td>\n",
       "      <td>2018-02-13</td>\n",
       "      <td>2020-08-20</td>\n",
       "      <td>True</td>\n",
       "      <td>11641</td>\n",
       "      <td>8</td>\n",
       "      <td>instock</td>\n",
       "      <td>53.0</td>\n",
       "      <td>30.0</td>\n",
       "      <td>1590.0</td>\n",
       "      <td>0.022531</td>\n",
       "    </tr>\n",
       "    <tr>\n",
       "      <th>69</th>\n",
       "      <td>4141</td>\n",
       "      <td>Champagne Gosset Grande Réserve</td>\n",
       "      <td>2018-02-13</td>\n",
       "      <td>2020-08-27</td>\n",
       "      <td>True</td>\n",
       "      <td>304</td>\n",
       "      <td>1</td>\n",
       "      <td>instock</td>\n",
       "      <td>39.0</td>\n",
       "      <td>40.0</td>\n",
       "      <td>1560.0</td>\n",
       "      <td>0.022106</td>\n",
       "    </tr>\n",
       "    <tr>\n",
       "      <th>201</th>\n",
       "      <td>4355</td>\n",
       "      <td>Champagne Egly-Ouriet Grand Cru Blanc de Noirs</td>\n",
       "      <td>2018-03-02</td>\n",
       "      <td>2020-08-13</td>\n",
       "      <td>True</td>\n",
       "      <td>12589</td>\n",
       "      <td>2</td>\n",
       "      <td>instock</td>\n",
       "      <td>126.5</td>\n",
       "      <td>11.0</td>\n",
       "      <td>1391.5</td>\n",
       "      <td>0.019718</td>\n",
       "    </tr>\n",
       "    <tr>\n",
       "      <th>199</th>\n",
       "      <td>4352</td>\n",
       "      <td>Champagne Egly-Ouriet Grand Cru Millésimé 2008</td>\n",
       "      <td>2018-03-02</td>\n",
       "      <td>2020-03-07</td>\n",
       "      <td>True</td>\n",
       "      <td>15940</td>\n",
       "      <td>0</td>\n",
       "      <td>outofstock</td>\n",
       "      <td>225.0</td>\n",
       "      <td>5.0</td>\n",
       "      <td>1125.0</td>\n",
       "      <td>0.015942</td>\n",
       "    </tr>\n",
       "    <tr>\n",
       "      <th>79</th>\n",
       "      <td>4153</td>\n",
       "      <td>Elian Daros Côtes du Marmandais Clos Baquey 2015</td>\n",
       "      <td>2018-02-13</td>\n",
       "      <td>2020-07-28</td>\n",
       "      <td>True</td>\n",
       "      <td>16237</td>\n",
       "      <td>0</td>\n",
       "      <td>outofstock</td>\n",
       "      <td>29.0</td>\n",
       "      <td>36.0</td>\n",
       "      <td>1044.0</td>\n",
       "      <td>0.014794</td>\n",
       "    </tr>\n",
       "    <tr>\n",
       "      <th>651</th>\n",
       "      <td>6206</td>\n",
       "      <td>Domaine Giudicelli Patrimonio Blanc 2019</td>\n",
       "      <td>2019-07-24</td>\n",
       "      <td>2020-08-27</td>\n",
       "      <td>True</td>\n",
       "      <td>16580</td>\n",
       "      <td>120</td>\n",
       "      <td>instock</td>\n",
       "      <td>25.2</td>\n",
       "      <td>41.0</td>\n",
       "      <td>1033.2</td>\n",
       "      <td>0.014641</td>\n",
       "    </tr>\n",
       "    <tr>\n",
       "      <th>30</th>\n",
       "      <td>4068</td>\n",
       "      <td>Gilles Robin Crozes-Hermitage Rouge Papillon 2019</td>\n",
       "      <td>2018-02-12</td>\n",
       "      <td>2020-08-27</td>\n",
       "      <td>True</td>\n",
       "      <td>16416</td>\n",
       "      <td>157</td>\n",
       "      <td>instock</td>\n",
       "      <td>16.6</td>\n",
       "      <td>62.0</td>\n",
       "      <td>1029.2</td>\n",
       "      <td>0.014584</td>\n",
       "    </tr>\n",
       "  </tbody>\n",
       "</table>\n",
       "</div>"
      ],
      "text/plain": [
       "    product_id                                         post_title  post_date  \\\n",
       "194       4334             Champagne Gosset Grand Blanc de Blancs 2018-03-01   \n",
       "71        4144                        Champagne Gosset Grand Rosé 2018-02-13   \n",
       "218       4402                               Cognac Frapin VIP XO 2018-03-22   \n",
       "70        4142              Champagne Gosset Grand Millésime 2006 2018-02-13   \n",
       "69        4141                    Champagne Gosset Grande Réserve 2018-02-13   \n",
       "201       4355     Champagne Egly-Ouriet Grand Cru Blanc de Noirs 2018-03-02   \n",
       "199       4352     Champagne Egly-Ouriet Grand Cru Millésimé 2008 2018-03-02   \n",
       "79        4153   Elian Daros Côtes du Marmandais Clos Baquey 2015 2018-02-13   \n",
       "651       6206           Domaine Giudicelli Patrimonio Blanc 2019 2019-07-24   \n",
       "30        4068  Gilles Robin Crozes-Hermitage Rouge Papillon 2019 2018-02-12   \n",
       "\n",
       "    post_modified  onsale_web    sku  stock_quantity stock_status  price  \\\n",
       "194    2020-08-12        True   7818               0   outofstock   49.0   \n",
       "71     2020-08-14        True   1662              11      instock   49.0   \n",
       "218    2020-08-22        True   3510               8      instock  176.0   \n",
       "70     2020-08-20        True  11641               8      instock   53.0   \n",
       "69     2020-08-27        True    304               1      instock   39.0   \n",
       "201    2020-08-13        True  12589               2      instock  126.5   \n",
       "199    2020-03-07        True  15940               0   outofstock  225.0   \n",
       "79     2020-07-28        True  16237               0   outofstock   29.0   \n",
       "651    2020-08-27        True  16580             120      instock   25.2   \n",
       "30     2020-08-27        True  16416             157      instock   16.6   \n",
       "\n",
       "     total_sales  turnover  %_turnover  \n",
       "194         96.0    4704.0    0.066659  \n",
       "71          87.0    4263.0    0.060409  \n",
       "218         13.0    2288.0    0.032422  \n",
       "70          30.0    1590.0    0.022531  \n",
       "69          40.0    1560.0    0.022106  \n",
       "201         11.0    1391.5    0.019718  \n",
       "199          5.0    1125.0    0.015942  \n",
       "79          36.0    1044.0    0.014794  \n",
       "651         41.0    1033.2    0.014641  \n",
       "30          62.0    1029.2    0.014584  "
      ]
     },
     "execution_count": 55,
     "metadata": {},
     "output_type": "execute_result"
    }
   ],
   "source": [
    "df_final.nlargest(10, 'turnover')\n"
   ]
  },
  {
   "cell_type": "markdown",
   "id": "d1c8d23a",
   "metadata": {},
   "source": [
    "Les vins de Champagne sont bien représentés dans le haut du classement et notamment ceux de la maison Gosset. Deux de leurs produits génèrent presque 13 % du chiffre d'affaires total.\n",
    "Penchons-nous maintenant sur les produits qui en génèrent le moins."
   ]
  },
  {
   "cell_type": "code",
   "execution_count": 56,
   "id": "2d3fe68d",
   "metadata": {},
   "outputs": [
    {
     "data": {
      "text/html": [
       "<div>\n",
       "<style scoped>\n",
       "    .dataframe tbody tr th:only-of-type {\n",
       "        vertical-align: middle;\n",
       "    }\n",
       "\n",
       "    .dataframe tbody tr th {\n",
       "        vertical-align: top;\n",
       "    }\n",
       "\n",
       "    .dataframe thead th {\n",
       "        text-align: right;\n",
       "    }\n",
       "</style>\n",
       "<table border=\"1\" class=\"dataframe\">\n",
       "  <thead>\n",
       "    <tr style=\"text-align: right;\">\n",
       "      <th></th>\n",
       "      <th>product_id</th>\n",
       "      <th>post_title</th>\n",
       "      <th>post_date</th>\n",
       "      <th>post_modified</th>\n",
       "      <th>onsale_web</th>\n",
       "      <th>sku</th>\n",
       "      <th>stock_quantity</th>\n",
       "      <th>stock_status</th>\n",
       "      <th>price</th>\n",
       "      <th>total_sales</th>\n",
       "      <th>turnover</th>\n",
       "      <th>%_turnover</th>\n",
       "    </tr>\n",
       "  </thead>\n",
       "  <tbody>\n",
       "    <tr>\n",
       "      <th>1</th>\n",
       "      <td>3849</td>\n",
       "      <td>Pierre Jean Villa Saint-Joseph Rouge Tildé 2017</td>\n",
       "      <td>2018-02-08</td>\n",
       "      <td>2019-12-21</td>\n",
       "      <td>True</td>\n",
       "      <td>15296</td>\n",
       "      <td>0</td>\n",
       "      <td>outofstock</td>\n",
       "      <td>34.3</td>\n",
       "      <td>0.0</td>\n",
       "      <td>0.0</td>\n",
       "      <td>0.0</td>\n",
       "    </tr>\n",
       "    <tr>\n",
       "      <th>2</th>\n",
       "      <td>3850</td>\n",
       "      <td>Pierre Jean Villa Crozes-Hermitage Accroche Co...</td>\n",
       "      <td>2018-02-08</td>\n",
       "      <td>2020-06-26</td>\n",
       "      <td>True</td>\n",
       "      <td>15300</td>\n",
       "      <td>0</td>\n",
       "      <td>outofstock</td>\n",
       "      <td>20.8</td>\n",
       "      <td>0.0</td>\n",
       "      <td>0.0</td>\n",
       "      <td>0.0</td>\n",
       "    </tr>\n",
       "    <tr>\n",
       "      <th>4</th>\n",
       "      <td>4039</td>\n",
       "      <td>Pierre Jean Villa Côte Rôtie Carmina 2017</td>\n",
       "      <td>2018-02-12</td>\n",
       "      <td>2020-01-04</td>\n",
       "      <td>True</td>\n",
       "      <td>19815</td>\n",
       "      <td>0</td>\n",
       "      <td>outofstock</td>\n",
       "      <td>46.0</td>\n",
       "      <td>0.0</td>\n",
       "      <td>0.0</td>\n",
       "      <td>0.0</td>\n",
       "    </tr>\n",
       "    <tr>\n",
       "      <th>5</th>\n",
       "      <td>4040</td>\n",
       "      <td>Pierre Jean Villa Saint-Joseph Saut De l'Ange ...</td>\n",
       "      <td>2018-02-12</td>\n",
       "      <td>2019-11-02</td>\n",
       "      <td>True</td>\n",
       "      <td>15303</td>\n",
       "      <td>0</td>\n",
       "      <td>outofstock</td>\n",
       "      <td>34.3</td>\n",
       "      <td>0.0</td>\n",
       "      <td>0.0</td>\n",
       "      <td>0.0</td>\n",
       "    </tr>\n",
       "    <tr>\n",
       "      <th>6</th>\n",
       "      <td>4041</td>\n",
       "      <td>Pierre Gaillard Condrieu 2018</td>\n",
       "      <td>2018-02-12</td>\n",
       "      <td>2020-08-14</td>\n",
       "      <td>True</td>\n",
       "      <td>14975</td>\n",
       "      <td>15</td>\n",
       "      <td>instock</td>\n",
       "      <td>32.7</td>\n",
       "      <td>0.0</td>\n",
       "      <td>0.0</td>\n",
       "      <td>0.0</td>\n",
       "    </tr>\n",
       "    <tr>\n",
       "      <th>11</th>\n",
       "      <td>4047</td>\n",
       "      <td>Pierre Gaillard Côtes-du-Rhône Blanc Les Gendr...</td>\n",
       "      <td>2018-02-12</td>\n",
       "      <td>2020-08-27</td>\n",
       "      <td>True</td>\n",
       "      <td>14977</td>\n",
       "      <td>36</td>\n",
       "      <td>instock</td>\n",
       "      <td>18.3</td>\n",
       "      <td>0.0</td>\n",
       "      <td>0.0</td>\n",
       "      <td>0.0</td>\n",
       "    </tr>\n",
       "    <tr>\n",
       "      <th>27</th>\n",
       "      <td>4065</td>\n",
       "      <td>Oratoire Saint Martin Cairanne Rouge Les Douye...</td>\n",
       "      <td>2018-02-12</td>\n",
       "      <td>2020-08-27</td>\n",
       "      <td>True</td>\n",
       "      <td>15022</td>\n",
       "      <td>35</td>\n",
       "      <td>instock</td>\n",
       "      <td>19.5</td>\n",
       "      <td>0.0</td>\n",
       "      <td>0.0</td>\n",
       "      <td>0.0</td>\n",
       "    </tr>\n",
       "    <tr>\n",
       "      <th>31</th>\n",
       "      <td>4069</td>\n",
       "      <td>Gilles Robin Hermitage Rouge 2012</td>\n",
       "      <td>2018-02-12</td>\n",
       "      <td>2019-01-31</td>\n",
       "      <td>True</td>\n",
       "      <td>11862</td>\n",
       "      <td>0</td>\n",
       "      <td>outofstock</td>\n",
       "      <td>60.0</td>\n",
       "      <td>0.0</td>\n",
       "      <td>0.0</td>\n",
       "      <td>0.0</td>\n",
       "    </tr>\n",
       "    <tr>\n",
       "      <th>35</th>\n",
       "      <td>4073</td>\n",
       "      <td>Château de Vaudieu Châteauneuf-du-Pape L'Avenu...</td>\n",
       "      <td>2018-02-12</td>\n",
       "      <td>2019-12-09</td>\n",
       "      <td>True</td>\n",
       "      <td>13074</td>\n",
       "      <td>11</td>\n",
       "      <td>instock</td>\n",
       "      <td>77.8</td>\n",
       "      <td>0.0</td>\n",
       "      <td>0.0</td>\n",
       "      <td>0.0</td>\n",
       "    </tr>\n",
       "    <tr>\n",
       "      <th>37</th>\n",
       "      <td>4075</td>\n",
       "      <td>Plateau des Chênes Lirac 2015</td>\n",
       "      <td>2018-02-12</td>\n",
       "      <td>2020-08-24</td>\n",
       "      <td>True</td>\n",
       "      <td>16069</td>\n",
       "      <td>54</td>\n",
       "      <td>instock</td>\n",
       "      <td>14.7</td>\n",
       "      <td>0.0</td>\n",
       "      <td>0.0</td>\n",
       "      <td>0.0</td>\n",
       "    </tr>\n",
       "  </tbody>\n",
       "</table>\n",
       "</div>"
      ],
      "text/plain": [
       "   product_id                                         post_title  post_date  \\\n",
       "1        3849    Pierre Jean Villa Saint-Joseph Rouge Tildé 2017 2018-02-08   \n",
       "2        3850  Pierre Jean Villa Crozes-Hermitage Accroche Co... 2018-02-08   \n",
       "4        4039          Pierre Jean Villa Côte Rôtie Carmina 2017 2018-02-12   \n",
       "5        4040  Pierre Jean Villa Saint-Joseph Saut De l'Ange ... 2018-02-12   \n",
       "6        4041                      Pierre Gaillard Condrieu 2018 2018-02-12   \n",
       "11       4047  Pierre Gaillard Côtes-du-Rhône Blanc Les Gendr... 2018-02-12   \n",
       "27       4065  Oratoire Saint Martin Cairanne Rouge Les Douye... 2018-02-12   \n",
       "31       4069                  Gilles Robin Hermitage Rouge 2012 2018-02-12   \n",
       "35       4073  Château de Vaudieu Châteauneuf-du-Pape L'Avenu... 2018-02-12   \n",
       "37       4075                      Plateau des Chênes Lirac 2015 2018-02-12   \n",
       "\n",
       "   post_modified  onsale_web    sku  stock_quantity stock_status  price  \\\n",
       "1     2019-12-21        True  15296               0   outofstock   34.3   \n",
       "2     2020-06-26        True  15300               0   outofstock   20.8   \n",
       "4     2020-01-04        True  19815               0   outofstock   46.0   \n",
       "5     2019-11-02        True  15303               0   outofstock   34.3   \n",
       "6     2020-08-14        True  14975              15      instock   32.7   \n",
       "11    2020-08-27        True  14977              36      instock   18.3   \n",
       "27    2020-08-27        True  15022              35      instock   19.5   \n",
       "31    2019-01-31        True  11862               0   outofstock   60.0   \n",
       "35    2019-12-09        True  13074              11      instock   77.8   \n",
       "37    2020-08-24        True  16069              54      instock   14.7   \n",
       "\n",
       "    total_sales  turnover  %_turnover  \n",
       "1           0.0       0.0         0.0  \n",
       "2           0.0       0.0         0.0  \n",
       "4           0.0       0.0         0.0  \n",
       "5           0.0       0.0         0.0  \n",
       "6           0.0       0.0         0.0  \n",
       "11          0.0       0.0         0.0  \n",
       "27          0.0       0.0         0.0  \n",
       "31          0.0       0.0         0.0  \n",
       "35          0.0       0.0         0.0  \n",
       "37          0.0       0.0         0.0  "
      ]
     },
     "execution_count": 56,
     "metadata": {},
     "output_type": "execute_result"
    }
   ],
   "source": [
    "df_final.nsmallest(10, 'turnover')\n"
   ]
  },
  {
   "cell_type": "markdown",
   "id": "d79669c3",
   "metadata": {},
   "source": [
    "Parmi les bouteilles en queue de classement, on retrouve essentiellement des vins ayant des prix unitaires plutôt élevés. Néanmoins, une partie des références est également en rupture de stock. N'ayant pas d'informations sur l'évolution des ventes et des stocks au cours du temps, il semble difficile de pousser plus loin les analyses."
   ]
  },
  {
   "cell_type": "markdown",
   "id": "96b4a81a",
   "metadata": {},
   "source": [
    "# Chiffre d'affaires total\n"
   ]
  },
  {
   "cell_type": "code",
   "execution_count": 57,
   "id": "021702a7",
   "metadata": {},
   "outputs": [
    {
     "name": "stdout",
     "output_type": "stream",
     "text": [
      "Le chiffre d'affaire total réalisé en ligne s'élève à 70568.6 €.\n"
     ]
    }
   ],
   "source": [
    "total_ca_web = df_final['turnover'].sum()\n",
    "\n",
    "print(\n",
    "    f'Le chiffre d\\'affaire total réalisé en ligne s\\'élève à {total_ca_web} €.')\n",
    "\n",
    "del total_ca_web"
   ]
  },
  {
   "cell_type": "markdown",
   "id": "f6f45416",
   "metadata": {},
   "source": [
    "# Analyse des prix des produits"
   ]
  },
  {
   "cell_type": "markdown",
   "id": "de1eb5b3",
   "metadata": {},
   "source": [
    "Dans cette partie, nous allons réaliser une étude univariée sur les prix de ventes afin de vérifier si ils contiennent des incohérences.\n",
    "\n"
   ]
  },
  {
   "cell_type": "code",
   "execution_count": 58,
   "id": "bffc942c",
   "metadata": {},
   "outputs": [
    {
     "data": {
      "text/html": [
       "<div>\n",
       "<style scoped>\n",
       "    .dataframe tbody tr th:only-of-type {\n",
       "        vertical-align: middle;\n",
       "    }\n",
       "\n",
       "    .dataframe tbody tr th {\n",
       "        vertical-align: top;\n",
       "    }\n",
       "\n",
       "    .dataframe thead th {\n",
       "        text-align: right;\n",
       "    }\n",
       "</style>\n",
       "<table border=\"1\" class=\"dataframe\">\n",
       "  <thead>\n",
       "    <tr style=\"text-align: right;\">\n",
       "      <th></th>\n",
       "      <th>stock_quantity</th>\n",
       "      <th>price</th>\n",
       "      <th>total_sales</th>\n",
       "      <th>turnover</th>\n",
       "      <th>%_turnover</th>\n",
       "    </tr>\n",
       "  </thead>\n",
       "  <tbody>\n",
       "    <tr>\n",
       "      <th>count</th>\n",
       "      <td>714.000000</td>\n",
       "      <td>714.000000</td>\n",
       "      <td>714.000000</td>\n",
       "      <td>714.000000</td>\n",
       "      <td>714.000000</td>\n",
       "    </tr>\n",
       "    <tr>\n",
       "      <th>mean</th>\n",
       "      <td>28.746499</td>\n",
       "      <td>32.493137</td>\n",
       "      <td>4.012605</td>\n",
       "      <td>98.835574</td>\n",
       "      <td>0.001401</td>\n",
       "    </tr>\n",
       "    <tr>\n",
       "      <th>std</th>\n",
       "      <td>48.012608</td>\n",
       "      <td>27.810525</td>\n",
       "      <td>8.518183</td>\n",
       "      <td>307.685071</td>\n",
       "      <td>0.004360</td>\n",
       "    </tr>\n",
       "    <tr>\n",
       "      <th>min</th>\n",
       "      <td>0.000000</td>\n",
       "      <td>5.200000</td>\n",
       "      <td>0.000000</td>\n",
       "      <td>0.000000</td>\n",
       "      <td>0.000000</td>\n",
       "    </tr>\n",
       "    <tr>\n",
       "      <th>25%</th>\n",
       "      <td>2.000000</td>\n",
       "      <td>14.100000</td>\n",
       "      <td>0.000000</td>\n",
       "      <td>0.000000</td>\n",
       "      <td>0.000000</td>\n",
       "    </tr>\n",
       "    <tr>\n",
       "      <th>50%</th>\n",
       "      <td>12.000000</td>\n",
       "      <td>23.550000</td>\n",
       "      <td>1.000000</td>\n",
       "      <td>15.250000</td>\n",
       "      <td>0.000216</td>\n",
       "    </tr>\n",
       "    <tr>\n",
       "      <th>75%</th>\n",
       "      <td>35.000000</td>\n",
       "      <td>42.175000</td>\n",
       "      <td>4.000000</td>\n",
       "      <td>91.150000</td>\n",
       "      <td>0.001292</td>\n",
       "    </tr>\n",
       "    <tr>\n",
       "      <th>max</th>\n",
       "      <td>578.000000</td>\n",
       "      <td>225.000000</td>\n",
       "      <td>96.000000</td>\n",
       "      <td>4704.000000</td>\n",
       "      <td>0.066659</td>\n",
       "    </tr>\n",
       "  </tbody>\n",
       "</table>\n",
       "</div>"
      ],
      "text/plain": [
       "       stock_quantity       price  total_sales     turnover  %_turnover\n",
       "count      714.000000  714.000000   714.000000   714.000000  714.000000\n",
       "mean        28.746499   32.493137     4.012605    98.835574    0.001401\n",
       "std         48.012608   27.810525     8.518183   307.685071    0.004360\n",
       "min          0.000000    5.200000     0.000000     0.000000    0.000000\n",
       "25%          2.000000   14.100000     0.000000     0.000000    0.000000\n",
       "50%         12.000000   23.550000     1.000000    15.250000    0.000216\n",
       "75%         35.000000   42.175000     4.000000    91.150000    0.001292\n",
       "max        578.000000  225.000000    96.000000  4704.000000    0.066659"
      ]
     },
     "execution_count": 58,
     "metadata": {},
     "output_type": "execute_result"
    }
   ],
   "source": [
    "df_final.describe()\n"
   ]
  },
  {
   "cell_type": "markdown",
   "id": "c9720b55",
   "metadata": {},
   "source": [
    "# Distribution des prix\n"
   ]
  },
  {
   "cell_type": "markdown",
   "id": "e36bc8b4",
   "metadata": {},
   "source": [
    "Commençons par représenter graphiquement la distribution des prix de notre jeu de données.\n",
    "\n"
   ]
  },
  {
   "cell_type": "code",
   "execution_count": 59,
   "id": "26448091",
   "metadata": {},
   "outputs": [
    {
     "data": {
      "image/png": "[encoded data removed]",
      "text/plain": [
       "<Figure size 640x480 with 1 Axes>"
      ]
     },
     "metadata": {},
     "output_type": "display_data"
    }
   ],
   "source": [
    "ax = df_final['price'].plot(kind='hist', density=True, bins=20,\n",
    "                            edgecolor='black', title='Distribution des prix de vente')\n",
    "\n",
    "del ax"
   ]
  },
  {
   "cell_type": "markdown",
   "id": "be434402",
   "metadata": {},
   "source": [
    "On remarque qu'il n'y a ni prix négatifs, ni prix à 0. Les fréquences les plus importantes se retrouvent sur une plage de prix en dessous de 50 € mais on observe qu'il y a plusieurs prix atypiques pouvant être supérieurs à 200 €."
   ]
  },
  {
   "cell_type": "markdown",
   "id": "81e63647",
   "metadata": {},
   "source": [
    "# Mesures de tendance centrale\n"
   ]
  },
  {
   "cell_type": "markdown",
   "id": "3c882503",
   "metadata": {},
   "source": [
    "Afin d'avoir une idée de la valeur autour de laquelle se concentrent les prix, calculons le mode, la moyenne et la médiane.\n",
    "\n"
   ]
  },
  {
   "cell_type": "code",
   "execution_count": 60,
   "id": "56bfee22",
   "metadata": {},
   "outputs": [
    {
     "name": "stdout",
     "output_type": "stream",
     "text": [
      "Mode : 0    19.0\n",
      "Name: price, dtype: float64\n",
      "Moyenne : 32.49\n",
      "Médiane : 23.55\n"
     ]
    }
   ],
   "source": [
    "price_mode = df_final['price'].mode()\n",
    "price_mean = df_final['price'].mean()\n",
    "price_median = df_final['price'].median()\n",
    "\n",
    "print(\n",
    "    f'Mode : {price_mode}\\nMoyenne : {price_mean:.2f}\\nMédiane : {price_median}')\n",
    "\n",
    "del price_mode, price_mean, price_median"
   ]
  },
  {
   "cell_type": "markdown",
   "id": "0fa66d5c",
   "metadata": {},
   "source": [
    "Le mode nous indique que 19 € est le prix qui revient le plus souvent. La moyenne, à 32,49 €, n'est pas vraiment exploitable car elle tient compte des valeurs aberrantes de notre jeu de données. La médiane, quant à elle, nous indique que la moitié des prix sont supérieurs à 23,55 €.\n",
    "Le fait que la moyenne soit supérieure à la médiane montre, tout comme l'histogramme, qu'il y a des valeurs aberrantes dans le jeu de données."
   ]
  },
  {
   "cell_type": "markdown",
   "id": "2b812e55",
   "metadata": {},
   "source": [
    "# Mesures de dispersion\n"
   ]
  },
  {
   "cell_type": "markdown",
   "id": "c35bab47",
   "metadata": {},
   "source": [
    "Pour analyser plus en détail ces valeurs atypiques, calculons les mesures de dispersion. Elles vont nous permettre de préciser la façon dont les prix se répartissent autour des mesures de tendance centrale.\n",
    "Commençons par l'étendue en affichant les valeurs extrêmes."
   ]
  },
  {
   "cell_type": "code",
   "execution_count": 61,
   "id": "140373a1",
   "metadata": {},
   "outputs": [
    {
     "name": "stdout",
     "output_type": "stream",
     "text": [
      "Les prix s'étendent de : 5.2 € à 225.0 €.\n"
     ]
    }
   ],
   "source": [
    "price_mini = df_final['price'].min()\n",
    "price_maxi = df_final['price'].max()\n",
    "\n",
    "print(f'Les prix s\\'étendent de : {price_mini} € à {price_maxi} €.')\n",
    "\n",
    "del price_mini, price_maxi"
   ]
  },
  {
   "cell_type": "markdown",
   "id": "0e71ab38",
   "metadata": {},
   "source": [
    "On constate encore une fois que les valeurs supérieures aux valeurs centrales sont bien plus étendues que celles qui sont inférieures.\n",
    "Voyons aussi comment se répartissent les prix autour des valeurs centrales grâce à la variance et l'écart-type. Ce sont les valeurs non biaisées de ces indicateurs qui seront calculées."
   ]
  },
  {
   "cell_type": "code",
   "execution_count": 62,
   "id": "1c157989",
   "metadata": {},
   "outputs": [
    {
     "name": "stdout",
     "output_type": "stream",
     "text": [
      "Variance : 772.34\n",
      "Ecart-type : 27.79\n"
     ]
    }
   ],
   "source": [
    "variance = df_final['price'].var(ddof=0)\n",
    "ecart_type = df_final['price'].std(ddof=0)\n",
    "\n",
    "print(f'Variance : {variance:.2f}\\nEcart-type : {ecart_type:.2f}')\n",
    "\n",
    "del variance, ecart_type"
   ]
  },
  {
   "cell_type": "markdown",
   "id": "43660b41",
   "metadata": {},
   "source": [
    "La variance est difficilement interprétable car elle n'est pas dans la même unité que nos données. L'écart-type, avec une valeur proche de la moyenne, permet de constater une nouvelle fois que les prix sont assez dispersés autour de cette dernière.\n",
    "Traçons une représentation graphique de type boîte à moustaches pour finalement identifier les valeurs aberrantes."
   ]
  },
  {
   "cell_type": "code",
   "execution_count": 63,
   "id": "4ab1d3ee",
   "metadata": {},
   "outputs": [
    {
     "data": {
      "image/png": "[encoded data removed]",
      "text/plain": [
       "<Figure size 640x480 with 1 Axes>"
      ]
     },
     "metadata": {},
     "output_type": "display_data"
    }
   ],
   "source": [
    "ax = (df_final['price'].plot(kind='box', vert=False,\n",
    "                             title='Dispersion des prix de vente'))\n",
    "\n",
    "del ax"
   ]
  },
  {
   "cell_type": "markdown",
   "id": "159f41c1",
   "metadata": {},
   "source": [
    "Cette fois on voit très clairement nos outliers et où ils se situent. Nous allons afficher les produits qui se situent entre la borne maximale de la boîte à moustaches et la valeurs maximale des données. La borne maximale du boxplot se calcule de la manière suivante:\n"
   ]
  },
  {
   "cell_type": "code",
   "execution_count": 64,
   "id": "a45de0b2",
   "metadata": {},
   "outputs": [
    {
     "data": {
      "text/html": [
       "<div>\n",
       "<style scoped>\n",
       "    .dataframe tbody tr th:only-of-type {\n",
       "        vertical-align: middle;\n",
       "    }\n",
       "\n",
       "    .dataframe tbody tr th {\n",
       "        vertical-align: top;\n",
       "    }\n",
       "\n",
       "    .dataframe thead th {\n",
       "        text-align: right;\n",
       "    }\n",
       "</style>\n",
       "<table border=\"1\" class=\"dataframe\">\n",
       "  <thead>\n",
       "    <tr style=\"text-align: right;\">\n",
       "      <th></th>\n",
       "      <th>product_id</th>\n",
       "      <th>post_title</th>\n",
       "      <th>post_date</th>\n",
       "      <th>post_modified</th>\n",
       "      <th>onsale_web</th>\n",
       "      <th>sku</th>\n",
       "      <th>stock_quantity</th>\n",
       "      <th>stock_status</th>\n",
       "      <th>price</th>\n",
       "      <th>total_sales</th>\n",
       "      <th>turnover</th>\n",
       "      <th>%_turnover</th>\n",
       "    </tr>\n",
       "  </thead>\n",
       "  <tbody>\n",
       "    <tr>\n",
       "      <th>199</th>\n",
       "      <td>4352</td>\n",
       "      <td>Champagne Egly-Ouriet Grand Cru Millésimé 2008</td>\n",
       "      <td>2018-03-02</td>\n",
       "      <td>2020-03-07</td>\n",
       "      <td>True</td>\n",
       "      <td>15940</td>\n",
       "      <td>0</td>\n",
       "      <td>outofstock</td>\n",
       "      <td>225.0</td>\n",
       "      <td>5.0</td>\n",
       "      <td>1125.0</td>\n",
       "      <td>0.015942</td>\n",
       "    </tr>\n",
       "    <tr>\n",
       "      <th>426</th>\n",
       "      <td>5001</td>\n",
       "      <td>David Duband Charmes-Chambertin Grand Cru 2014</td>\n",
       "      <td>2018-07-17</td>\n",
       "      <td>2020-05-16</td>\n",
       "      <td>True</td>\n",
       "      <td>14581</td>\n",
       "      <td>20</td>\n",
       "      <td>instock</td>\n",
       "      <td>217.5</td>\n",
       "      <td>0.0</td>\n",
       "      <td>0.0</td>\n",
       "      <td>0.000000</td>\n",
       "    </tr>\n",
       "    <tr>\n",
       "      <th>587</th>\n",
       "      <td>5892</td>\n",
       "      <td>Coteaux Champenois Egly-Ouriet Ambonnay Rouge ...</td>\n",
       "      <td>2019-03-28</td>\n",
       "      <td>2020-04-01</td>\n",
       "      <td>True</td>\n",
       "      <td>14983</td>\n",
       "      <td>10</td>\n",
       "      <td>instock</td>\n",
       "      <td>191.3</td>\n",
       "      <td>3.0</td>\n",
       "      <td>573.9</td>\n",
       "      <td>0.008133</td>\n",
       "    </tr>\n",
       "    <tr>\n",
       "      <th>218</th>\n",
       "      <td>4402</td>\n",
       "      <td>Cognac Frapin VIP XO</td>\n",
       "      <td>2018-03-22</td>\n",
       "      <td>2020-08-22</td>\n",
       "      <td>True</td>\n",
       "      <td>3510</td>\n",
       "      <td>8</td>\n",
       "      <td>instock</td>\n",
       "      <td>176.0</td>\n",
       "      <td>13.0</td>\n",
       "      <td>2288.0</td>\n",
       "      <td>0.032422</td>\n",
       "    </tr>\n",
       "    <tr>\n",
       "      <th>553</th>\n",
       "      <td>5767</td>\n",
       "      <td>Camille Giroud Clos de Vougeot 2016</td>\n",
       "      <td>2019-03-13</td>\n",
       "      <td>2020-06-11</td>\n",
       "      <td>True</td>\n",
       "      <td>15185</td>\n",
       "      <td>12</td>\n",
       "      <td>instock</td>\n",
       "      <td>175.0</td>\n",
       "      <td>0.0</td>\n",
       "      <td>0.0</td>\n",
       "      <td>0.000000</td>\n",
       "    </tr>\n",
       "    <tr>\n",
       "      <th>221</th>\n",
       "      <td>4406</td>\n",
       "      <td>Cognac Frapin Château de Fontpinot 1989 20 Ans...</td>\n",
       "      <td>2018-03-22</td>\n",
       "      <td>2020-03-14</td>\n",
       "      <td>True</td>\n",
       "      <td>7819</td>\n",
       "      <td>3</td>\n",
       "      <td>instock</td>\n",
       "      <td>157.0</td>\n",
       "      <td>0.0</td>\n",
       "      <td>0.0</td>\n",
       "      <td>0.000000</td>\n",
       "    </tr>\n",
       "    <tr>\n",
       "      <th>381</th>\n",
       "      <td>4904</td>\n",
       "      <td>Domaine Des Croix Corton Charlemagne Grand Cru...</td>\n",
       "      <td>2018-05-15</td>\n",
       "      <td>2020-05-19</td>\n",
       "      <td>True</td>\n",
       "      <td>14220</td>\n",
       "      <td>13</td>\n",
       "      <td>instock</td>\n",
       "      <td>137.0</td>\n",
       "      <td>5.0</td>\n",
       "      <td>685.0</td>\n",
       "      <td>0.009707</td>\n",
       "    </tr>\n",
       "    <tr>\n",
       "      <th>642</th>\n",
       "      <td>6126</td>\n",
       "      <td>Champagne Gosset Célébris Vintage 2007</td>\n",
       "      <td>2019-06-28</td>\n",
       "      <td>2020-08-27</td>\n",
       "      <td>True</td>\n",
       "      <td>14923</td>\n",
       "      <td>10</td>\n",
       "      <td>instock</td>\n",
       "      <td>135.0</td>\n",
       "      <td>2.0</td>\n",
       "      <td>270.0</td>\n",
       "      <td>0.003826</td>\n",
       "    </tr>\n",
       "    <tr>\n",
       "      <th>201</th>\n",
       "      <td>4355</td>\n",
       "      <td>Champagne Egly-Ouriet Grand Cru Blanc de Noirs</td>\n",
       "      <td>2018-03-02</td>\n",
       "      <td>2020-08-13</td>\n",
       "      <td>True</td>\n",
       "      <td>12589</td>\n",
       "      <td>2</td>\n",
       "      <td>instock</td>\n",
       "      <td>126.5</td>\n",
       "      <td>11.0</td>\n",
       "      <td>1391.5</td>\n",
       "      <td>0.019718</td>\n",
       "    </tr>\n",
       "    <tr>\n",
       "      <th>511</th>\n",
       "      <td>5612</td>\n",
       "      <td>Domaine Weinbach Gewurztraminer Grand Cru Furs...</td>\n",
       "      <td>2019-01-15</td>\n",
       "      <td>2019-01-23</td>\n",
       "      <td>True</td>\n",
       "      <td>14915</td>\n",
       "      <td>12</td>\n",
       "      <td>instock</td>\n",
       "      <td>124.8</td>\n",
       "      <td>0.0</td>\n",
       "      <td>0.0</td>\n",
       "      <td>0.000000</td>\n",
       "    </tr>\n",
       "    <tr>\n",
       "      <th>603</th>\n",
       "      <td>5917</td>\n",
       "      <td>Wemyss Malts Single Cask Scotch Whisky Choc 'n...</td>\n",
       "      <td>2019-04-04</td>\n",
       "      <td>2020-03-11</td>\n",
       "      <td>True</td>\n",
       "      <td>14775</td>\n",
       "      <td>4</td>\n",
       "      <td>instock</td>\n",
       "      <td>122.0</td>\n",
       "      <td>0.0</td>\n",
       "      <td>0.0</td>\n",
       "      <td>0.000000</td>\n",
       "    </tr>\n",
       "    <tr>\n",
       "      <th>654</th>\n",
       "      <td>6213</td>\n",
       "      <td>Domaine des Comtes Lafon Volnay 1er Cru Santen...</td>\n",
       "      <td>2019-07-25</td>\n",
       "      <td>2020-06-25</td>\n",
       "      <td>True</td>\n",
       "      <td>15072</td>\n",
       "      <td>7</td>\n",
       "      <td>instock</td>\n",
       "      <td>121.0</td>\n",
       "      <td>0.0</td>\n",
       "      <td>0.0</td>\n",
       "      <td>0.000000</td>\n",
       "    </tr>\n",
       "    <tr>\n",
       "      <th>657</th>\n",
       "      <td>6216</td>\n",
       "      <td>Domaine des Comtes Lafon Volnay 1er Cru Champa...</td>\n",
       "      <td>2019-07-25</td>\n",
       "      <td>2020-07-30</td>\n",
       "      <td>True</td>\n",
       "      <td>15070</td>\n",
       "      <td>6</td>\n",
       "      <td>instock</td>\n",
       "      <td>121.0</td>\n",
       "      <td>0.0</td>\n",
       "      <td>0.0</td>\n",
       "      <td>0.000000</td>\n",
       "    </tr>\n",
       "    <tr>\n",
       "      <th>648</th>\n",
       "      <td>6202</td>\n",
       "      <td>Domaine Clerget Echezeaux Grand Cru En Orveaux...</td>\n",
       "      <td>2019-07-23</td>\n",
       "      <td>2020-06-06</td>\n",
       "      <td>True</td>\n",
       "      <td>15126</td>\n",
       "      <td>14</td>\n",
       "      <td>instock</td>\n",
       "      <td>116.4</td>\n",
       "      <td>0.0</td>\n",
       "      <td>0.0</td>\n",
       "      <td>0.000000</td>\n",
       "    </tr>\n",
       "    <tr>\n",
       "      <th>653</th>\n",
       "      <td>6212</td>\n",
       "      <td>Domaine des Comtes Lafon Volnay 1er Cru Santen...</td>\n",
       "      <td>2019-07-25</td>\n",
       "      <td>2020-06-16</td>\n",
       "      <td>True</td>\n",
       "      <td>13996</td>\n",
       "      <td>2</td>\n",
       "      <td>instock</td>\n",
       "      <td>115.0</td>\n",
       "      <td>2.0</td>\n",
       "      <td>230.0</td>\n",
       "      <td>0.003259</td>\n",
       "    </tr>\n",
       "  </tbody>\n",
       "</table>\n",
       "</div>"
      ],
      "text/plain": [
       "    product_id                                         post_title  post_date  \\\n",
       "199       4352     Champagne Egly-Ouriet Grand Cru Millésimé 2008 2018-03-02   \n",
       "426       5001     David Duband Charmes-Chambertin Grand Cru 2014 2018-07-17   \n",
       "587       5892  Coteaux Champenois Egly-Ouriet Ambonnay Rouge ... 2019-03-28   \n",
       "218       4402                               Cognac Frapin VIP XO 2018-03-22   \n",
       "553       5767                Camille Giroud Clos de Vougeot 2016 2019-03-13   \n",
       "221       4406  Cognac Frapin Château de Fontpinot 1989 20 Ans... 2018-03-22   \n",
       "381       4904  Domaine Des Croix Corton Charlemagne Grand Cru... 2018-05-15   \n",
       "642       6126             Champagne Gosset Célébris Vintage 2007 2019-06-28   \n",
       "201       4355     Champagne Egly-Ouriet Grand Cru Blanc de Noirs 2018-03-02   \n",
       "511       5612  Domaine Weinbach Gewurztraminer Grand Cru Furs... 2019-01-15   \n",
       "603       5917  Wemyss Malts Single Cask Scotch Whisky Choc 'n... 2019-04-04   \n",
       "654       6213  Domaine des Comtes Lafon Volnay 1er Cru Santen... 2019-07-25   \n",
       "657       6216  Domaine des Comtes Lafon Volnay 1er Cru Champa... 2019-07-25   \n",
       "648       6202  Domaine Clerget Echezeaux Grand Cru En Orveaux... 2019-07-23   \n",
       "653       6212  Domaine des Comtes Lafon Volnay 1er Cru Santen... 2019-07-25   \n",
       "\n",
       "    post_modified  onsale_web    sku  stock_quantity stock_status  price  \\\n",
       "199    2020-03-07        True  15940               0   outofstock  225.0   \n",
       "426    2020-05-16        True  14581              20      instock  217.5   \n",
       "587    2020-04-01        True  14983              10      instock  191.3   \n",
       "218    2020-08-22        True   3510               8      instock  176.0   \n",
       "553    2020-06-11        True  15185              12      instock  175.0   \n",
       "221    2020-03-14        True   7819               3      instock  157.0   \n",
       "381    2020-05-19        True  14220              13      instock  137.0   \n",
       "642    2020-08-27        True  14923              10      instock  135.0   \n",
       "201    2020-08-13        True  12589               2      instock  126.5   \n",
       "511    2019-01-23        True  14915              12      instock  124.8   \n",
       "603    2020-03-11        True  14775               4      instock  122.0   \n",
       "654    2020-06-25        True  15072               7      instock  121.0   \n",
       "657    2020-07-30        True  15070               6      instock  121.0   \n",
       "648    2020-06-06        True  15126              14      instock  116.4   \n",
       "653    2020-06-16        True  13996               2      instock  115.0   \n",
       "\n",
       "     total_sales  turnover  %_turnover  \n",
       "199          5.0    1125.0    0.015942  \n",
       "426          0.0       0.0    0.000000  \n",
       "587          3.0     573.9    0.008133  \n",
       "218         13.0    2288.0    0.032422  \n",
       "553          0.0       0.0    0.000000  \n",
       "221          0.0       0.0    0.000000  \n",
       "381          5.0     685.0    0.009707  \n",
       "642          2.0     270.0    0.003826  \n",
       "201         11.0    1391.5    0.019718  \n",
       "511          0.0       0.0    0.000000  \n",
       "603          0.0       0.0    0.000000  \n",
       "654          0.0       0.0    0.000000  \n",
       "657          0.0       0.0    0.000000  \n",
       "648          0.0       0.0    0.000000  \n",
       "653          2.0     230.0    0.003259  "
      ]
     },
     "execution_count": 64,
     "metadata": {},
     "output_type": "execute_result"
    }
   ],
   "source": [
    "# Calcul de la borne maximale\n",
    "Q1, Q3 = df_final['price'].quantile(0.25), df_final['price'].quantile(0.75)\n",
    "IQR = Q3 - Q1\n",
    "max_boxplot = 1.5 * IQR + Q3\n",
    "\n",
    "# Affichage des 15 outliers avec les prix les plus élevés\n",
    "df_final.loc[(df_final['price'] >= max_boxplot)\n",
    "             & (df_final['price'] <= df_final['price'].max())\n",
    "             ].nlargest(15, 'price')"
   ]
  },
  {
   "cell_type": "code",
   "execution_count": 65,
   "id": "89a24383",
   "metadata": {},
   "outputs": [],
   "source": [
    "del Q1, Q3, IQR, max_boxplot\n"
   ]
  },
  {
   "cell_type": "markdown",
   "id": "841d7c47",
   "metadata": {},
   "source": [
    "# Conclusion"
   ]
  },
  {
   "cell_type": "markdown",
   "id": "91626d85",
   "metadata": {},
   "source": [
    "Les prix qui correspondent aux valeurs les plus aberrantes concernent principalement des 1er crus ou des grands crus sur des millésimes assez anciens. On retrouve également du cognac ou encore du whisky. Il semble finalement assez logique que leurs prix soient bien plus élevés que le reste des autres produits mais ils ne constituent en rien des erreurs."
   ]
  },
  {
   "cell_type": "markdown",
   "id": "b6584589",
   "metadata": {},
   "source": [
    "# Pour aller plus loin\n"
   ]
  },
  {
   "cell_type": "markdown",
   "id": "a1973e97",
   "metadata": {},
   "source": [
    "Une autre façon d'appréhender la distribution de nos prix aurait pu être d'étudier l'asymétrie et l'aplatissement de nos données grâce au Skewness empirique et au Kurtosis empirique."
   ]
  },
  {
   "cell_type": "code",
   "execution_count": 66,
   "id": "96f79eef",
   "metadata": {},
   "outputs": [
    {
     "name": "stdout",
     "output_type": "stream",
     "text": [
      "Skewness : 2.58\n",
      "Kurtosis : 10.09\n"
     ]
    }
   ],
   "source": [
    "price_skew = df_final['price'].skew()\n",
    "price_kurt = df_final['price'].kurtosis()\n",
    "\n",
    "print(f'Skewness : {price_skew:.2f}\\nKurtosis : {price_kurt:.2f}')\n",
    "\n",
    "del price_skew, price_kurt"
   ]
  },
  {
   "cell_type": "markdown",
   "id": "21670046",
   "metadata": {},
   "source": [
    "Le skewness montre que la distribution est asymétrique et qu'elle est étalée à droite car sa valeur est positive.\n",
    "Ici, le kurtosis ne pourra pas nous donner beaucoup d'indications car l'aplatissement ne peut s'interpréter qu'à condition que la distribution soit symétrique."
   ]
  },
  {
   "cell_type": "markdown",
   "id": "29f2df8d",
   "metadata": {},
   "source": [
    "Pour terminer, revenons au chiffre d'affaires en étudions sa concentration. Cela va nous permettre de vérifier si le chiffre d'affaires est réparti de manière égalitaire entre les produits. Cela revient à voir quel pourcentage de chiffre d'affaires et généré par quel pourcentage de produits. Pour cela, nous allons tracer la courbe de Lorenz."
   ]
  },
  {
   "cell_type": "code",
   "execution_count": 67,
   "id": "3e5f2f2d",
   "metadata": {},
   "outputs": [
    {
     "data": {
      "image/png": "[encoded data removed]",
      "text/plain": [
       "<Figure size 640x480 with 1 Axes>"
      ]
     },
     "metadata": {},
     "output_type": "display_data"
    }
   ],
   "source": [
    "# Données du graphique\n",
    "# Sélection des valeurs de CA > 0\n",
    "turnover = df_final.loc[df_final['turnover'] > 0, 'turnover']\n",
    "# Calcul nombre de valeurs\n",
    "n_turnover = len(turnover)\n",
    "\n",
    "# Calcul CA (tri croissant) cumulé et normalisé (max = 1)\n",
    "cum_turnover = np.cumsum(np.sort(turnover)) / turnover.sum()\n",
    "# Ajout 0 car la courbe commence à 0\n",
    "cum_turnover = np.append([0], cum_turnover)\n",
    "\n",
    "# Calcul cumul nombre de produits\n",
    "cum_product = np.linspace(0-1/n_turnover, 1+1/n_turnover,\n",
    "                                 len(cum_turnover))\n",
    "\n",
    "# Configuration et traçage graphique\n",
    "fig, ax = plt.subplots()\n",
    "\n",
    "ax.plot(cum_product, cum_turnover, drawstyle='steps-post')\n",
    "ax.plot([0, 1], [0, 1])\n",
    "\n",
    "ax.grid(True)\n",
    "ax.xaxis.set_major_formatter(ticker.PercentFormatter(1))\n",
    "ax.yaxis.set_major_formatter(ticker.PercentFormatter(1))\n",
    "\n",
    "ax.set_title('Répartition du chiffre d\\'affaires')\n",
    "ax.set_xlabel('% produits')\n",
    "ax.set_ylabel('% CA')\n",
    "\n",
    "plt.show()\n",
    "\n",
    "del fig, ax"
   ]
  },
  {
   "cell_type": "markdown",
   "id": "150a408c",
   "metadata": {},
   "source": [
    "On observe facilement que la répartition n'est pas égalitaire. Une des lectures de cette courbe pourrait être: 50 % du chiffre d'affaires est réalisé par ±10 % des produits. Cela tend à rejoindre le constat que nous avions fait lors de l'affichage du chiffre d'affaires par produit.\n",
    "En fin, résumons cette courbe en calculant l'indice de Gini."
   ]
  },
  {
   "cell_type": "code",
   "execution_count": 68,
   "id": "857be04f",
   "metadata": {},
   "outputs": [
    {
     "name": "stdout",
     "output_type": "stream",
     "text": [
      "Indice de Gini : 0.64\n"
     ]
    }
   ],
   "source": [
    "# Surface sous la courbe de Lorenz.\n",
    "# Le premier segment (cum_turnover[0]) est à moitié en dessous de 0, on le coupe donc en 2.\n",
    "# On fait de même pour le dernier segment cum_turnover[-1] qui est à moitié au-dessus de 1.\n",
    "AUC = (cum_turnover.sum() -\n",
    "       cum_turnover[-1] / 2 - cum_turnover[0] / 2) / n_turnover\n",
    "\n",
    "# Surface entre la première bissectrice et la courbe de Lorenz\n",
    "S = 0.5 - AUC\n",
    "\n",
    "# Gini\n",
    "turnover_gini = 2 * S\n",
    "print(f'Indice de Gini : {turnover_gini:.2f}')\n",
    "\n",
    "del turnover, n_turnover, cum_turnover, cum_product, AUC, S, turnover_gini"
   ]
  },
  {
   "cell_type": "markdown",
   "id": "0ca82d88",
   "metadata": {},
   "source": [
    "Un indice nul montre une égalité parfaite et un indice égal à 1 montre une inégalité parfaite. Avec une valeur de 0,64, la répartition du chiffre d'affaires est plutôt inégalitaire. Il pourrait par exemple être intéressant de suivre son évolution au cours du temps mais cela n'est pas possible dans notre cas."
   ]
  }
 ],
 "metadata": {
  "kernelspec": {
   "display_name": "Python 3 (ipykernel)",
   "language": "python",
   "name": "python3"
  },
  "language_info": {
   "codemirror_mode": {
    "name": "ipython",
    "version": 3
   },
   "file_extension": ".py",
   "mimetype": "text/x-python",
   "name": "python",
   "nbconvert_exporter": "python",
   "pygments_lexer": "ipython3",
   "version": "3.9.16"
  }
 },
 "nbformat": 4,
 "nbformat_minor": 5
}
